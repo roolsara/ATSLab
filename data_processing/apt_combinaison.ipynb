{
 "cells": [
  {
   "cell_type": "markdown",
   "metadata": {},
   "source": [
    "<div class=\"alert alert-block alert-info\"> A notebook that lists every possible route combinations (directionnal) between Europe and North America. Add airport metrics (only that for the moment) to compare existing America routes with all possible routes.</div>"
   ]
  },
  {
   "cell_type": "markdown",
   "metadata": {},
   "source": [
    "# Import"
   ]
  },
  {
   "cell_type": "markdown",
   "metadata": {},
   "source": [
    "## lib"
   ]
  },
  {
   "cell_type": "code",
   "execution_count": null,
   "metadata": {},
   "outputs": [],
   "source": [
    "import numpy as np\n",
    "import polars as pl\n",
    "import pandas as pd\n",
    "from polars import col as d\n",
    "import glob\n",
    "import os\n",
    "# import math"
   ]
  },
  {
   "cell_type": "markdown",
   "metadata": {},
   "source": [
    "## csv"
   ]
  },
  {
   "cell_type": "code",
   "execution_count": null,
   "metadata": {},
   "outputs": [],
   "source": [
    "folder_path = '/home/sara/Desktop/ATSLab/data/' "
   ]
  },
  {
   "cell_type": "code",
   "execution_count": null,
   "metadata": {},
   "outputs": [],
   "source": [
    "df_airports_lookup_modif = pl.read_csv(folder_path+\"df_airports_lookup_modif.csv\")\n",
    "df_airports_metrics_modif = pl.read_csv(folder_path+\"df_airports_metrics_modif.csv\")\n",
    "df_scheduled = pl.read_parquet(folder_path+\"scheduled_dataset_transatlantic_enhanced.parquet\") ## change name"
   ]
  },
  {
   "cell_type": "code",
   "execution_count": null,
   "metadata": {},
   "outputs": [],
   "source": [
    "df_airports_ratings = pl.read_csv(\"/home/sara/Desktop/ATSLab/data_scrapping/csv_output/20250819_output_airport_ratings.csv\")"
   ]
  },
  {
   "cell_type": "markdown",
   "metadata": {},
   "source": [
    "# Combinaison"
   ]
  },
  {
   "cell_type": "markdown",
   "metadata": {},
   "source": [
    "Doing all the possible route combinaison between north american airports and european ones. (directionnal)"
   ]
  },
  {
   "cell_type": "code",
   "execution_count": null,
   "metadata": {},
   "outputs": [],
   "source": [
    "df_eu = df_airports_metrics_modif.filter(d.REGION_ID == 13).select('APT_CODE').rename({'APT_CODE':'APT_CODE_A'})\n",
    "df_us = df_airports_metrics_modif.filter(d.REGION_ID == 10).select('APT_CODE').rename({'APT_CODE':'APT_CODE_B'})"
   ]
  },
  {
   "cell_type": "code",
   "execution_count": null,
   "metadata": {},
   "outputs": [],
   "source": [
    "df1 = df_eu.join(df_us, how=\"cross\")\n",
    "df_us_rename = df_us.rename({\"APT_CODE_B\": \"APT_CODE_A\"})\n",
    "df_eu_rename = df_eu.rename({\"APT_CODE_A\": \"APT_CODE_B\"})\n",
    "df2 = df_us_rename.join(df_eu_rename, how=\"cross\")\n",
    "df_apt_combinaison = pl.concat([df1, df2])"
   ]
  },
  {
   "cell_type": "code",
   "execution_count": null,
   "metadata": {},
   "outputs": [],
   "source": [
    "df_apt_combinaison ## 283_404 possible routes"
   ]
  },
  {
   "cell_type": "markdown",
   "metadata": {},
   "source": [
    "# Add indicators"
   ]
  },
  {
   "cell_type": "code",
   "execution_count": null,
   "metadata": {},
   "outputs": [],
   "source": [
    "R = 6371.0\n",
    "\n",
    "lat1 = pl.col(\"LATITUDE_A\") * np.pi / 180\n",
    "lon1 = pl.col(\"LONGITUDE_A\") * np.pi / 180\n",
    "lat2 = pl.col(\"LATITUDE_B\") * np.pi / 180\n",
    "lon2 = pl.col(\"LONGITUDE_B\") * np.pi / 180\n",
    "\n",
    "dlat = lat2 - lat1\n",
    "dlon = lon2 - lon1\n",
    "\n",
    "a = (dlat / 2).sin()**2 + lat1.cos() * lat2.cos() * (dlon / 2).sin()**2\n",
    "c = 2 * a.sqrt().arcsin()"
   ]
  },
  {
   "cell_type": "code",
   "execution_count": null,
   "metadata": {},
   "outputs": [],
   "source": [
    "base_TO = 2800.0 ## m\n",
    "base_LDG = 1800.0 ## m"
   ]
  },
  {
   "cell_type": "code",
   "execution_count": null,
   "metadata": {},
   "outputs": [],
   "source": [
    "df_combinaison_enhanced_apt_metrics = (\n",
    "    df_apt_combinaison\n",
    "    .join(df_scheduled.select('APT_CODE_A', 'APT_CODE_B').unique().with_columns(HAS_EXISTED = True), how = 'left', on = ['APT_CODE_A', 'APT_CODE_B'])\n",
    "    .fill_null(False)\n",
    "    \n",
    "    ## add apt metrics\n",
    "    .join(df_airports_metrics_modif.select('APT_CODE', 'OPENING_YEAR', 'CLOSING_YEAR', 'TIME_ZONE_2016', 'IS_ISLAND', 'ELEV_FT', 'NB_RUNWAYS', 'LONGEST_RUNWAY_FT', 'APT_CITY_DRIVE_DIST_KM', 'APT_CITY_DRIVE_TIME_H').rename({col: f\"{col}_A\" for col in ['APT_CODE', 'OPENING_YEAR', 'CLOSING_YEAR', 'TIME_ZONE_2016', 'IS_ISLAND', 'ELEV_FT', 'NB_RUNWAYS', 'LONGEST_RUNWAY_FT', 'APT_CITY_DRIVE_DIST_KM', 'APT_CITY_DRIVE_TIME_H']}), how = 'left', on = 'APT_CODE_A')\n",
    "    .join(df_airports_metrics_modif.select('APT_CODE', 'OPENING_YEAR', 'CLOSING_YEAR', 'TIME_ZONE_2016', 'IS_ISLAND', 'ELEV_FT', 'NB_RUNWAYS', 'LONGEST_RUNWAY_FT', 'APT_CITY_DRIVE_DIST_KM', 'APT_CITY_DRIVE_TIME_H').rename({col: f\"{col}_B\" for col in ['APT_CODE', 'OPENING_YEAR', 'CLOSING_YEAR', 'TIME_ZONE_2016', 'IS_ISLAND', 'ELEV_FT', 'NB_RUNWAYS', 'LONGEST_RUNWAY_FT', 'APT_CITY_DRIVE_DIST_KM', 'APT_CITY_DRIVE_TIME_H']}), how = 'left', on = 'APT_CODE_B')\n",
    "\n",
    "    ## add apt rating\n",
    "    .join(df_airports_ratings.select('APT_CODE', 'RATING', 'NB_REVIEW').rename({col: f\"{col}_A\" for col in ['APT_CODE', 'RATING', 'NB_REVIEW']}), how = 'left', on = 'APT_CODE_A')\n",
    "    .join(df_airports_ratings.select('APT_CODE', 'RATING', 'NB_REVIEW').rename({col: f\"{col}_B\" for col in ['APT_CODE', 'RATING', 'NB_REVIEW']}), how = 'left', on = 'APT_CODE_B')\n",
    "\n",
    "    ## add indicators\n",
    "    .with_columns(ROUTE_DRIVE_DIST_KM = d.APT_CITY_DRIVE_DIST_KM_A + d.APT_CITY_DRIVE_DIST_KM_B)\n",
    "    .with_columns(ROUTE_DRIVE_TIME_H = d.APT_CITY_DRIVE_TIME_H_A + d.APT_CITY_DRIVE_TIME_H_B)\n",
    "    .with_columns(ROUTE_RATING = d.RATING_A+d.RATING_B)\n",
    "    .with_columns(TIME_ZONE_DIFF = abs(d.TIME_ZONE_2016_A - d.TIME_ZONE_2016_B))\n",
    "\n",
    "    ## apply log to few columns\n",
    "    .with_columns(ELEV_LOG_FT_A = d.ELEV_FT_A.log())\n",
    "    .with_columns(ELEV_LOG_FT_B = d.ELEV_FT_B.log())\n",
    "    .with_columns(NB_REVIEW_LOG_A = d.NB_REVIEW_A.log())\n",
    "    .with_columns(NB_REVIEW_LOG_B = d.NB_REVIEW_B.log())\n",
    "\n",
    "    ## join to get the latitude & longitude by airport\n",
    "    .join(df_airports_lookup_modif.select('APT_CODE', 'LATITUDE', 'LONGITUDE').rename({col: f\"{col}_A\" for col in ['APT_CODE', 'LATITUDE', 'LONGITUDE']}), how = 'left', on = 'APT_CODE_A')\n",
    "    .join(df_airports_lookup_modif.select('APT_CODE', 'LATITUDE', 'LONGITUDE').rename({col: f\"{col}_B\" for col in ['APT_CODE', 'LATITUDE', 'LONGITUDE']}), how = 'left', on = 'APT_CODE_B')\n",
    "    \n",
    "    ## compute the route distance\n",
    "    .with_columns(DIST_GC_KM = R * c)\n",
    "\n",
    "    ## other columns\n",
    "    .with_columns(RUNWAY_M = d.LONGEST_RUNWAY_FT_A * 0.3048)\n",
    "    .with_columns(TO_FEASIBLE = d.RUNWAY_M  >= (base_TO * (1 + 0.07 * (d.ELEV_FT_A / 1000.0))))\n",
    "    .with_columns(LDG_FEASIBLE = d.RUNWAY_M  >= (base_LDG * (1 + 0.07 * (d.ELEV_FT_B / 1000.0))))\n",
    "    .with_columns(IS_FEASIBLE = d.TO_FEASIBLE & d.LDG_FEASIBLE)\n",
    ")"
   ]
  },
  {
   "cell_type": "code",
   "execution_count": null,
   "metadata": {},
   "outputs": [],
   "source": [
    "df_combinaison_enhanced_apt_metrics.head(2)"
   ]
  },
  {
   "cell_type": "markdown",
   "metadata": {},
   "source": [
    "# Save parquet"
   ]
  },
  {
   "cell_type": "code",
   "execution_count": null,
   "metadata": {},
   "outputs": [],
   "source": [
    "df_combinaison_enhanced_apt_metrics.write_parquet(\"df_route_combinaison_enhanced.parquet\")\n",
    "print(\"Parquet saved!\")"
   ]
  }
 ],
 "metadata": {
  "kernelspec": {
   "display_name": "optim",
   "language": "python",
   "name": "python3"
  },
  "language_info": {
   "codemirror_mode": {
    "name": "ipython",
    "version": 3
   },
   "file_extension": ".py",
   "mimetype": "text/x-python",
   "name": "python",
   "nbconvert_exporter": "python",
   "pygments_lexer": "ipython3",
   "version": "3.10.13"
  }
 },
 "nbformat": 4,
 "nbformat_minor": 2
}
