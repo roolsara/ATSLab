{
 "cells": [
  {
   "cell_type": "markdown",
   "metadata": {},
   "source": [
    "<div class=\"alert alert-block alert-info\"> In this notebook, I want to examine whether there are differences between newly opened routes and existing routes by comparing them against airport metrics. (on the international market) </div>"
   ]
  },
  {
   "cell_type": "markdown",
   "metadata": {},
   "source": [
    "# Import"
   ]
  },
  {
   "cell_type": "markdown",
   "metadata": {},
   "source": [
    "## lib"
   ]
  },
  {
   "cell_type": "code",
   "execution_count": null,
   "metadata": {},
   "outputs": [],
   "source": [
    "%load_ext autoreload\n",
    "%autoreload 2"
   ]
  },
  {
   "cell_type": "code",
   "execution_count": null,
   "metadata": {},
   "outputs": [],
   "source": [
    "import numpy as np\n",
    "import polars as pl\n",
    "import pandas as pd\n",
    "from polars import col as d\n",
    "import glob\n",
    "import os"
   ]
  },
  {
   "cell_type": "markdown",
   "metadata": {},
   "source": [
    "## plot"
   ]
  },
  {
   "cell_type": "code",
   "execution_count": null,
   "metadata": {},
   "outputs": [],
   "source": [
    "from utils_plot import facet_distribution_plot\n",
    "from utils_plot import plot_heatmap_by_group"
   ]
  },
  {
   "cell_type": "markdown",
   "metadata": {},
   "source": [
    "## csv"
   ]
  },
  {
   "cell_type": "code",
   "execution_count": null,
   "metadata": {},
   "outputs": [],
   "source": [
    "folder_path = '/home/sara/Desktop/ATSLab/data/' "
   ]
  },
  {
   "cell_type": "code",
   "execution_count": null,
   "metadata": {},
   "outputs": [],
   "source": [
    "df_airports_metrics_modif = pl.read_csv(folder_path+\"df_airports_metrics_modif.csv\")\n",
    "df_scheduled = pl.read_parquet(folder_path+\"scheduled_dataset_transatlantic_enhanced.parquet\") ## change name"
   ]
  },
  {
   "cell_type": "code",
   "execution_count": null,
   "metadata": {},
   "outputs": [],
   "source": [
    "df_airports_ratings = pl.read_csv(\"/home/sara/Desktop/ATSLab/data_scrapping/csv_output/20250819_output_airport_ratings.csv\")"
   ]
  },
  {
   "cell_type": "markdown",
   "metadata": {},
   "source": [
    "## some variables"
   ]
  },
  {
   "cell_type": "code",
   "execution_count": null,
   "metadata": {},
   "outputs": [],
   "source": [
    "dico_is_opening = {\n",
    "    False: \"#E57373\",\n",
    "    True: \"#81C784\"\n",
    "}\n",
    "\n",
    "dico_has_ended = {\n",
    "    False: \"#E57373\",\n",
    "    True: \"#81C784\"\n",
    "}\n",
    "\n",
    "dico_tag_duration_opening = {\n",
    "    'SHORT_OPENING': \"#FFA500\",\n",
    "    'LONG_OPENING': \"#1f77b4\",\n",
    "    'NO_OPENING': \"#A9A9A9\"\n",
    "}\n",
    "\n",
    "dico_tag_end = {\n",
    "    \"NEW_RTE_STILL_EXISTING\": \"#1f9e89\",\n",
    "    \"NEW_RTE_STOPPED_EXISTING\": \"#a8d5bf\",\n",
    "    \"OLD_RTE_STILL_EXISTING\": \"#d65f5f\",\n",
    "    \"OLD_RTE_STOPPED_EXISTING\": \"#e3b6b6\"\n",
    "}"
   ]
  },
  {
   "cell_type": "code",
   "execution_count": null,
   "metadata": {},
   "outputs": [],
   "source": [
    "category_orders = {\n",
    "    \"TAG_DURATION_OPENING\": [\"SHORT_OPENING\", \"LONG_OPENING\", \"NO_OPENING\"],\n",
    "    \"TAG_END_WITHOUT_COVID\": [\"OLD_RTE_STILL_EXISTING\", \"NEW_RTE_STILL_EXISTING\", \"OLD_RTE_STOPPED_EXISTING\", 'NEW_RTE_STOPPED_EXISTING']\n",
    "}"
   ]
  },
  {
   "cell_type": "markdown",
   "metadata": {},
   "source": [
    "# Data enhancing"
   ]
  },
  {
   "cell_type": "code",
   "execution_count": null,
   "metadata": {},
   "outputs": [],
   "source": [
    "df_scheduled_enhanced_apt_metrics = (\n",
    "    df_scheduled\n",
    "    .filter(d.REGION_ID_A != d.REGION_ID_B)\n",
    "    .group_by('APT_CODE_A', 'APT_CODE_B', 'LAST_EXISTING_YEAR')\n",
    "    .agg(d.NB_OPENING_RTE.sum(), d.NB_SHORT_OPENING_RTE.sum(), d.NB_LONG_OPENING_RTE.sum(), d.NB_ENDING_RTE.sum(), d.NB_REOPENING_RTE.sum(), d.NB_PAUSE_RTE.sum())\n",
    "    .with_columns(IS_OPENING = d.NB_OPENING_RTE.cast(pl.Boolean))\n",
    "    .with_columns(TAG_DURATION_OPENING = pl.when(d.NB_SHORT_OPENING_RTE == 1)\n",
    "                                  .then(pl.lit('SHORT_OPENING'))\n",
    "                                  .when(d.NB_LONG_OPENING_RTE == 1)\n",
    "                                  .then(pl.lit('LONG_OPENING'))\n",
    "                                  .otherwise(pl.lit('NO_OPENING'))\n",
    "    )\n",
    "\n",
    "    ## add apt metrics\n",
    "    .join(df_airports_metrics_modif.select('APT_CODE', 'OPENING_YEAR', 'TIME_ZONE_2016', 'IS_ISLAND', 'ELEV_FT', 'NB_RUNWAYS', 'LONGEST_RUNWAY_FT', 'APT_CITY_DRIVE_DIST_KM', 'APT_CITY_DRIVE_TIME_H').rename({col: f\"{col}_A\" for col in ['APT_CODE', 'OPENING_YEAR', 'TIME_ZONE_2016', 'IS_ISLAND', 'ELEV_FT', 'NB_RUNWAYS', 'LONGEST_RUNWAY_FT', 'APT_CITY_DRIVE_DIST_KM', 'APT_CITY_DRIVE_TIME_H']}), how = 'left', on = 'APT_CODE_A')\n",
    "    .join(df_airports_metrics_modif.select('APT_CODE', 'OPENING_YEAR', 'TIME_ZONE_2016', 'IS_ISLAND', 'ELEV_FT', 'NB_RUNWAYS', 'LONGEST_RUNWAY_FT', 'APT_CITY_DRIVE_DIST_KM', 'APT_CITY_DRIVE_TIME_H').rename({col: f\"{col}_B\" for col in ['APT_CODE', 'OPENING_YEAR', 'TIME_ZONE_2016', 'IS_ISLAND', 'ELEV_FT', 'NB_RUNWAYS', 'LONGEST_RUNWAY_FT', 'APT_CITY_DRIVE_DIST_KM', 'APT_CITY_DRIVE_TIME_H']}), how = 'left', on = 'APT_CODE_B')\n",
    "\n",
    "    ## add apt rating\n",
    "    .join(df_airports_ratings.select('APT_CODE', 'RATING').rename({col: f\"{col}_A\" for col in ['APT_CODE', 'RATING']}), how = 'left', on = 'APT_CODE_A')\n",
    "    .join(df_airports_ratings.select('APT_CODE', 'RATING').rename({col: f\"{col}_B\" for col in ['APT_CODE', 'RATING']}), how = 'left', on = 'APT_CODE_B')\n",
    "\n",
    "    ## some tag maybe not useful\n",
    "    .with_columns(TAG_END_WITH_COVID = pl.when((d.NB_OPENING_RTE == 1) & (d.NB_ENDING_RTE == 0))\n",
    "                                      .then(pl.lit('NEW_RTE_STILL_EXISTING'))\n",
    "                                      .when((d.NB_OPENING_RTE == 1) & (d.NB_ENDING_RTE == 1))\n",
    "                                      .then(pl.lit('NEW_RTE_STOPPED_EXISTING'))\n",
    "                                      .when((d.NB_OPENING_RTE == 0) & (d.NB_ENDING_RTE == 1))\n",
    "                                      .then(pl.lit('OLD_RTE_STOPPED_EXISTING'))\n",
    "                                      .otherwise(pl.lit('OLD_RTE_STILL_EXISTING'))\n",
    "                 )\n",
    "\n",
    "    .with_columns(TAG_END_WITHOUT_COVID = pl.when((d.NB_OPENING_RTE == 1) & (d.NB_ENDING_RTE == 0))\n",
    "                                      .then(pl.lit('NEW_RTE_STILL_EXISTING'))\n",
    "                                      .when((d.NB_OPENING_RTE == 1) & (d.NB_ENDING_RTE == 1) & (d.LAST_EXISTING_YEAR <= 2019))\n",
    "                                      .then(pl.lit('NEW_RTE_STOPPED_EXISTING'))\n",
    "                                      .when((d.NB_OPENING_RTE == 1) & (d.NB_ENDING_RTE == 1) & (d.LAST_EXISTING_YEAR > 2019))\n",
    "                                      .then(pl.lit('NEW_RTE_STILL_EXISTING'))     \n",
    "                                      .when((d.NB_OPENING_RTE == 0) & (d.NB_ENDING_RTE == 1) & (d.LAST_EXISTING_YEAR <= 2019))\n",
    "                                      .then(pl.lit('OLD_RTE_STOPPED_EXISTING'))\n",
    "                                      .otherwise(pl.lit('OLD_RTE_STILL_EXISTING'))\n",
    "                 )\n",
    "\n",
    "    .with_columns(HAS_ENDED_WITHOUT_COVID = pl.when(d.TAG_END_WITHOUT_COVID.is_in(['OLD_RTE_STOPPED_EXISTING', 'NEW_RTE_STOPPED_EXISTING']))\n",
    "                              .then(True)\n",
    "                              .otherwise(False)\n",
    "                 )\n",
    "\n",
    "    .rename({'OPENING_YEAR_A':'APT_OPENING_YEAR_A', 'OPENING_YEAR_B':'APT_OPENING_YEAR_B'})\n",
    "\n",
    "    .with_columns(ROUTE_DRIVE_DIST_KM = d.APT_CITY_DRIVE_DIST_KM_A + d.APT_CITY_DRIVE_DIST_KM_B)\n",
    "    .with_columns(ROUTE_DRIVE_TIME_H = d.APT_CITY_DRIVE_TIME_H_A + d.APT_CITY_DRIVE_TIME_H_B)\n",
    "    .with_columns(ROUTE_RATING = d.RATING_A+d.RATING_B)\n",
    "\n",
    "    .with_columns(ELEV_LOG_FT_A = d.ELEV_FT_A.log())\n",
    "    .with_columns(ELEV_LOG_FT_B = d.ELEV_FT_B.log())\n",
    "\n",
    "    .with_columns(TIME_ZONE_DIFF = abs(d.TIME_ZONE_2016_A - d.TIME_ZONE_2016_B))\n",
    "\n",
    "\n",
    ")"
   ]
  },
  {
   "cell_type": "markdown",
   "metadata": {},
   "source": [
    "# Volume of data"
   ]
  },
  {
   "cell_type": "code",
   "execution_count": null,
   "metadata": {},
   "outputs": [],
   "source": [
    "(\n",
    "    df_scheduled_enhanced_apt_metrics\n",
    "    .group_by('IS_OPENING')\n",
    "    .agg(pl.len().alias('COUNT'))\n",
    ")"
   ]
  },
  {
   "cell_type": "code",
   "execution_count": null,
   "metadata": {},
   "outputs": [],
   "source": [
    "(\n",
    "    df_scheduled_enhanced_apt_metrics\n",
    "    .group_by('TAG_DURATION_OPENING')\n",
    "    .agg(pl.len().alias('COUNT'))\n",
    ")"
   ]
  },
  {
   "cell_type": "code",
   "execution_count": null,
   "metadata": {},
   "outputs": [],
   "source": [
    "(\n",
    "    df_scheduled_enhanced_apt_metrics\n",
    "    .group_by('TAG_END_WITH_COVID')\n",
    "    .agg(pl.len().alias('COUNT'))\n",
    "    .sort('TAG_END_WITH_COVID')\n",
    ")"
   ]
  },
  {
   "cell_type": "code",
   "execution_count": null,
   "metadata": {},
   "outputs": [],
   "source": [
    "(\n",
    "    df_scheduled_enhanced_apt_metrics\n",
    "    .group_by('TAG_END_WITHOUT_COVID')\n",
    "    .agg(pl.len().alias('COUNT'))\n",
    "    .sort('TAG_END_WITHOUT_COVID')\n",
    "\n",
    ")"
   ]
  },
  {
   "cell_type": "markdown",
   "metadata": {},
   "source": [
    "# Histogram"
   ]
  },
  {
   "cell_type": "markdown",
   "metadata": {},
   "source": [
    "## airport to city drive distance"
   ]
  },
  {
   "cell_type": "code",
   "execution_count": null,
   "metadata": {},
   "outputs": [],
   "source": [
    "(\n",
    "    facet_distribution_plot(df_scheduled_enhanced_apt_metrics.to_pandas(), category = 'IS_OPENING', title_x = 'distance (km)', value_vars= ['APT_CITY_DRIVE_DIST_KM_A', 'APT_CITY_DRIVE_DIST_KM_B', 'ROUTE_DRIVE_DIST_KM'], dico_color = dico_is_opening, nbins = 30)\n",
    "    .update_xaxes(dtick = 10)\n",
    "    # .update_yaxes(matches = None)\n",
    ")"
   ]
  },
  {
   "cell_type": "code",
   "execution_count": null,
   "metadata": {},
   "outputs": [],
   "source": [
    "(\n",
    "    facet_distribution_plot(df_scheduled_enhanced_apt_metrics.to_pandas(), category = 'TAG_DURATION_OPENING', title_x = 'distance (km)', value_vars= ['APT_CITY_DRIVE_DIST_KM_A', 'APT_CITY_DRIVE_DIST_KM_B', 'ROUTE_DRIVE_DIST_KM'], dico_color = dico_tag_duration_opening, order = category_orders, nbins = 30)\n",
    "    .update_xaxes(dtick = 10)\n",
    "    # .update_yaxes(matches = None)\n",
    "\n",
    ")"
   ]
  },
  {
   "cell_type": "code",
   "execution_count": null,
   "metadata": {},
   "outputs": [],
   "source": [
    "(\n",
    "    facet_distribution_plot(df_scheduled_enhanced_apt_metrics.to_pandas(), category = 'TAG_END_WITHOUT_COVID', title_x = 'distance (km)', value_vars= ['APT_CITY_DRIVE_DIST_KM_A', 'APT_CITY_DRIVE_DIST_KM_B', 'ROUTE_DRIVE_DIST_KM'], dico_color=dico_tag_end, order= category_orders, nbins = 30, height = 500)\n",
    "    .update_xaxes(dtick = 10)\n",
    ")"
   ]
  },
  {
   "cell_type": "code",
   "execution_count": null,
   "metadata": {},
   "outputs": [],
   "source": [
    "(\n",
    "    facet_distribution_plot(df_scheduled_enhanced_apt_metrics.to_pandas(), category = 'HAS_ENDED_WITHOUT_COVID', title_x = 'distance (km)', value_vars= ['APT_CITY_DRIVE_DIST_KM_A', 'APT_CITY_DRIVE_DIST_KM_B', 'ROUTE_DRIVE_DIST_KM'], dico_color=dico_has_ended, nbins = 30)\n",
    "    .update_xaxes(dtick = 10)\n",
    ")"
   ]
  },
  {
   "cell_type": "markdown",
   "metadata": {},
   "source": [
    "## airport to city drive time"
   ]
  },
  {
   "cell_type": "code",
   "execution_count": null,
   "metadata": {},
   "outputs": [],
   "source": [
    "(\n",
    "    facet_distribution_plot(df_scheduled_enhanced_apt_metrics.to_pandas(), category = 'IS_OPENING', value_vars= ['APT_CITY_DRIVE_TIME_H_A', 'APT_CITY_DRIVE_TIME_H_B', 'ROUTE_DRIVE_TIME_H'], title_x = 'time (h)', dico_color=dico_is_opening, nbins = 20)\n",
    "    .update_xaxes(dtick = 0.2)\n",
    "    # .update_yaxes(matches = None)\n",
    "\n",
    ")"
   ]
  },
  {
   "cell_type": "code",
   "execution_count": null,
   "metadata": {},
   "outputs": [],
   "source": [
    "(\n",
    "    facet_distribution_plot(df_scheduled_enhanced_apt_metrics.to_pandas(), category = 'TAG_DURATION_OPENING', title_x = 'time (h)', dico_color=dico_tag_duration_opening, order=category_orders, value_vars= ['APT_CITY_DRIVE_TIME_H_A', 'APT_CITY_DRIVE_TIME_H_B', 'ROUTE_DRIVE_TIME_H'], nbins = 20)\n",
    "    .update_xaxes(dtick = 0.2)\n",
    "    # .update_yaxes(matches = None)\n",
    "\n",
    ")"
   ]
  },
  {
   "cell_type": "code",
   "execution_count": null,
   "metadata": {},
   "outputs": [],
   "source": [
    "(\n",
    "    facet_distribution_plot(df_scheduled_enhanced_apt_metrics.to_pandas(), category = 'TAG_END_WITHOUT_COVID', title_x = 'time (h)', dico_color=dico_tag_end, order=category_orders, value_vars= ['APT_CITY_DRIVE_TIME_H_A', 'APT_CITY_DRIVE_TIME_H_B', 'ROUTE_DRIVE_TIME_H'], nbins = 20)\n",
    "    .update_xaxes(dtick = 0.2)\n",
    "    # .update_yaxes(matches = None)\n",
    "\n",
    ")"
   ]
  },
  {
   "cell_type": "code",
   "execution_count": null,
   "metadata": {},
   "outputs": [],
   "source": [
    "(\n",
    "    facet_distribution_plot(df_scheduled_enhanced_apt_metrics.to_pandas(), category = 'HAS_ENDED_WITHOUT_COVID', title_x = 'time (h)', dico_color=dico_has_ended, value_vars= ['APT_CITY_DRIVE_TIME_H_A', 'APT_CITY_DRIVE_TIME_H_B', 'ROUTE_DRIVE_TIME_H'], nbins = 20)\n",
    "    .update_xaxes(dtick = 0.2)\n",
    "    # .update_yaxes(matches = None)\n",
    "\n",
    ")"
   ]
  },
  {
   "cell_type": "markdown",
   "metadata": {},
   "source": [
    "## elevation"
   ]
  },
  {
   "cell_type": "code",
   "execution_count": null,
   "metadata": {},
   "outputs": [],
   "source": [
    "(\n",
    "    facet_distribution_plot(df_scheduled_enhanced_apt_metrics.to_pandas(), dico_color=dico_is_opening, title_x = 'elevation (ft)', category = 'IS_OPENING', value_vars= ['ELEV_FT_A', 'ELEV_FT_B'], nbins = 50)\n",
    "    .update_xaxes(dtick = 200)\n",
    "\n",
    ")"
   ]
  },
  {
   "cell_type": "code",
   "execution_count": null,
   "metadata": {},
   "outputs": [],
   "source": [
    "(\n",
    "    facet_distribution_plot(df_scheduled_enhanced_apt_metrics.to_pandas(), dico_color=dico_is_opening, title_x = 'elevation log', category = 'IS_OPENING', value_vars= ['ELEV_LOG_FT_A', 'ELEV_LOG_FT_B'], nbins = 30)\n",
    "    .update_xaxes(dtick = 0.5)\n",
    "\n",
    ")"
   ]
  },
  {
   "cell_type": "code",
   "execution_count": null,
   "metadata": {},
   "outputs": [],
   "source": [
    "(\n",
    "    facet_distribution_plot(df_scheduled_enhanced_apt_metrics.to_pandas(), category = 'TAG_DURATION_OPENING', title_x = 'elevation (ft)', dico_color=dico_tag_duration_opening, order=category_orders, value_vars= ['ELEV_FT_A', 'ELEV_FT_B'], nbins = 50)\n",
    "    .update_xaxes(dtick = 200)\n",
    "\n",
    ")"
   ]
  },
  {
   "cell_type": "code",
   "execution_count": null,
   "metadata": {},
   "outputs": [],
   "source": [
    "(\n",
    "    facet_distribution_plot(df_scheduled_enhanced_apt_metrics.to_pandas(), category = 'TAG_DURATION_OPENING', title_x = 'elevation log', dico_color=dico_tag_duration_opening, order=category_orders, value_vars= ['ELEV_LOG_FT_A', 'ELEV_LOG_FT_B'], nbins = 30)\n",
    "    .update_xaxes(dtick = 0.5)\n",
    "\n",
    ")"
   ]
  },
  {
   "cell_type": "code",
   "execution_count": null,
   "metadata": {},
   "outputs": [],
   "source": [
    "(\n",
    "    facet_distribution_plot(df_scheduled_enhanced_apt_metrics.to_pandas(), category = 'TAG_END_WITHOUT_COVID', title_x = 'elevation (ft)', dico_color=dico_tag_end, order=category_orders,value_vars= ['ELEV_FT_A', 'ELEV_FT_B'], nbins = 50)\n",
    "    .update_xaxes(dtick = 200)\n",
    "\n",
    ")"
   ]
  },
  {
   "cell_type": "code",
   "execution_count": null,
   "metadata": {},
   "outputs": [],
   "source": [
    "(\n",
    "    facet_distribution_plot(df_scheduled_enhanced_apt_metrics.to_pandas(), category = 'TAG_END_WITHOUT_COVID', title_x = 'elevation log', dico_color=dico_tag_end, order=category_orders,value_vars= ['ELEV_LOG_FT_A', 'ELEV_LOG_FT_B'], nbins = 30)\n",
    "    .update_xaxes(dtick = 0.5)\n",
    "\n",
    ")"
   ]
  },
  {
   "cell_type": "code",
   "execution_count": null,
   "metadata": {},
   "outputs": [],
   "source": [
    "(\n",
    "    facet_distribution_plot(df_scheduled_enhanced_apt_metrics.to_pandas(), category = 'HAS_ENDED_WITHOUT_COVID', title_x = 'elevation (ft)', dico_color=dico_has_ended, order=category_orders,value_vars= ['ELEV_FT_A', 'ELEV_FT_B'], nbins = 50)\n",
    "    .update_xaxes(dtick = 200)\n",
    "\n",
    ")"
   ]
  },
  {
   "cell_type": "code",
   "execution_count": null,
   "metadata": {},
   "outputs": [],
   "source": [
    "(\n",
    "    facet_distribution_plot(df_scheduled_enhanced_apt_metrics.to_pandas(), category = 'HAS_ENDED_WITHOUT_COVID', title_x = 'elevation log', dico_color=dico_has_ended, order=category_orders,value_vars= ['ELEV_LOG_FT_A', 'ELEV_LOG_FT_B'], nbins = 30)\n",
    "    .update_xaxes(dtick = 0.5)\n",
    "\n",
    ")"
   ]
  },
  {
   "cell_type": "markdown",
   "metadata": {},
   "source": [
    "## ratings"
   ]
  },
  {
   "cell_type": "code",
   "execution_count": null,
   "metadata": {},
   "outputs": [],
   "source": [
    "(\n",
    "    facet_distribution_plot(df_scheduled_enhanced_apt_metrics.to_pandas(), category = 'IS_OPENING', title_x = 'rating', dico_color=dico_is_opening, value_vars= ['RATING_A', 'RATING_B', 'ROUTE_RATING'], nbins = 80)\n",
    "    .update_xaxes(dtick = 0.1)\n",
    "    # .update_yaxes(matches = None)\n",
    "\n",
    ")"
   ]
  },
  {
   "cell_type": "code",
   "execution_count": null,
   "metadata": {},
   "outputs": [],
   "source": [
    "(\n",
    "    facet_distribution_plot(df_scheduled_enhanced_apt_metrics.to_pandas(),  category = 'TAG_DURATION_OPENING', title_x = 'rating', dico_color=dico_tag_duration_opening, order=category_orders, value_vars= ['RATING_A', 'RATING_B', 'ROUTE_RATING'], nbins = 80)\n",
    "    .update_xaxes(dtick = 0.1)\n",
    "    # .update_yaxes(matches = None)\n",
    "\n",
    ")"
   ]
  },
  {
   "cell_type": "code",
   "execution_count": null,
   "metadata": {},
   "outputs": [],
   "source": [
    "(\n",
    "    facet_distribution_plot(df_scheduled_enhanced_apt_metrics.to_pandas(),  category = 'TAG_END_WITHOUT_COVID', title_x = 'rating', dico_color=dico_tag_end, order=category_orders, value_vars= ['RATING_A', 'RATING_B', 'ROUTE_RATING'], nbins = 80)\n",
    "    .update_xaxes(dtick = 0.1)\n",
    "    # .update_yaxes(matches = None)\n",
    "\n",
    ")"
   ]
  },
  {
   "cell_type": "code",
   "execution_count": null,
   "metadata": {},
   "outputs": [],
   "source": [
    "(\n",
    "    facet_distribution_plot(df_scheduled_enhanced_apt_metrics.to_pandas(),  category = 'HAS_ENDED_WITHOUT_COVID', title_x = 'rating', dico_color=dico_has_ended, order=category_orders, value_vars= ['RATING_A', 'RATING_B', 'ROUTE_RATING'], nbins = 80)\n",
    "    .update_xaxes(dtick = 0.1)\n",
    "    # .update_yaxes(matches = None)\n",
    "\n",
    ")"
   ]
  },
  {
   "cell_type": "markdown",
   "metadata": {},
   "source": [
    "## time zone"
   ]
  },
  {
   "cell_type": "code",
   "execution_count": null,
   "metadata": {},
   "outputs": [],
   "source": [
    "(\n",
    "    facet_distribution_plot(df_scheduled_enhanced_apt_metrics.to_pandas(), category = 'IS_OPENING', dico_color=dico_is_opening, title_x='time zone', value_vars= ['TIME_ZONE_2016_A', 'TIME_ZONE_2016_B', 'TIME_ZONE_DIFF'], nbins = 30)\n",
    "    .update_xaxes(dtick = 1)\n",
    ")"
   ]
  },
  {
   "cell_type": "code",
   "execution_count": null,
   "metadata": {},
   "outputs": [],
   "source": [
    "(\n",
    "    facet_distribution_plot(df_scheduled_enhanced_apt_metrics.to_pandas(), category = 'TAG_DURATION_OPENING', title_x='time zone', dico_color=dico_tag_duration_opening, order=category_orders, value_vars= ['TIME_ZONE_2016_A', 'TIME_ZONE_2016_B', 'TIME_ZONE_DIFF'], nbins = 30)\n",
    "    .update_xaxes(dtick = 1)\n",
    ")"
   ]
  },
  {
   "cell_type": "code",
   "execution_count": null,
   "metadata": {},
   "outputs": [],
   "source": [
    "(\n",
    "    facet_distribution_plot(df_scheduled_enhanced_apt_metrics.to_pandas(), category = 'TAG_END_WITHOUT_COVID', dico_color= dico_tag_end, title_x='time zone', order=category_orders, value_vars= ['TIME_ZONE_2016_A', 'TIME_ZONE_2016_B', 'TIME_ZONE_DIFF'], nbins = 30)\n",
    "    .update_xaxes(dtick = 1)\n",
    ")"
   ]
  },
  {
   "cell_type": "code",
   "execution_count": null,
   "metadata": {},
   "outputs": [],
   "source": [
    "(\n",
    "    facet_distribution_plot(df_scheduled_enhanced_apt_metrics.to_pandas(), category = 'HAS_ENDED_WITHOUT_COVID', dico_color= dico_has_ended, title_x='time zone', order=category_orders, value_vars= ['TIME_ZONE_2016_A', 'TIME_ZONE_2016_B', 'TIME_ZONE_DIFF'], nbins = 30)\n",
    "    .update_xaxes(dtick = 1)\n",
    ")"
   ]
  },
  {
   "cell_type": "markdown",
   "metadata": {},
   "source": [
    "## number of runways"
   ]
  },
  {
   "cell_type": "code",
   "execution_count": null,
   "metadata": {},
   "outputs": [],
   "source": [
    "(\n",
    "    facet_distribution_plot(df_scheduled_enhanced_apt_metrics.to_pandas(), category = 'IS_OPENING', title_x='number of runways', dico_color=dico_is_opening, value_vars= ['NB_RUNWAYS_A', 'NB_RUNWAYS_B'], nbins = 30)\n",
    "    .update_xaxes(dtick = 1)\n",
    ")"
   ]
  },
  {
   "cell_type": "code",
   "execution_count": null,
   "metadata": {},
   "outputs": [],
   "source": [
    "(\n",
    "    facet_distribution_plot(df_scheduled_enhanced_apt_metrics.to_pandas(), category = 'TAG_DURATION_OPENING', title_x='number of runways', dico_color=dico_tag_duration_opening, order=category_orders, value_vars= ['NB_RUNWAYS_A', 'NB_RUNWAYS_B'], nbins = 30)\n",
    "    .update_xaxes(dtick = 1)\n",
    ")"
   ]
  },
  {
   "cell_type": "code",
   "execution_count": null,
   "metadata": {},
   "outputs": [],
   "source": [
    "(\n",
    "    facet_distribution_plot(df_scheduled_enhanced_apt_metrics.to_pandas(), category = 'TAG_END_WITHOUT_COVID', title_x='number of runways', dico_color=dico_tag_end, order=category_orders, value_vars= ['NB_RUNWAYS_A', 'NB_RUNWAYS_B'], nbins = 30)\n",
    "    .update_xaxes(dtick = 1)\n",
    ")"
   ]
  },
  {
   "cell_type": "code",
   "execution_count": null,
   "metadata": {},
   "outputs": [],
   "source": [
    "(\n",
    "    facet_distribution_plot(df_scheduled_enhanced_apt_metrics.to_pandas(), category = 'HAS_ENDED_WITHOUT_COVID', title_x='number of runways', dico_color=dico_has_ended, order=category_orders, value_vars= ['NB_RUNWAYS_A', 'NB_RUNWAYS_B'], nbins = 30)\n",
    "    .update_xaxes(dtick = 1)\n",
    ")"
   ]
  },
  {
   "cell_type": "markdown",
   "metadata": {},
   "source": [
    "# Heatmap"
   ]
  },
  {
   "cell_type": "markdown",
   "metadata": {},
   "source": [
    "## ratings"
   ]
  },
  {
   "cell_type": "code",
   "execution_count": null,
   "metadata": {},
   "outputs": [],
   "source": [
    "(\n",
    "    plot_heatmap_by_group(\n",
    "    df_scheduled_enhanced_apt_metrics,\n",
    "    group_col=\"IS_OPENING\",\n",
    "    x_col=\"RATING_A\",\n",
    "    y_col=\"RATING_B\",\n",
    "    # normalize=True\n",
    "    )\n",
    "    .update_layout(height = 600)\n",
    "    .update_xaxes(dtick = 0.1)\n",
    "    .update_yaxes(dtick = 0.1)\n",
    ")"
   ]
  },
  {
   "cell_type": "code",
   "execution_count": null,
   "metadata": {},
   "outputs": [],
   "source": [
    "(\n",
    "    plot_heatmap_by_group(\n",
    "    df_scheduled_enhanced_apt_metrics,\n",
    "    group_col=\"TAG_DURATION_OPENING\",\n",
    "    x_col=\"RATING_A\",\n",
    "    y_col=\"RATING_B\",\n",
    "    # normalize=True\n",
    "    )\n",
    "    .update_layout(height = 600)\n",
    "    .update_xaxes(dtick = 0.1)\n",
    "    .update_yaxes(dtick = 0.1)\n",
    ")"
   ]
  },
  {
   "cell_type": "code",
   "execution_count": null,
   "metadata": {},
   "outputs": [],
   "source": [
    "(\n",
    "    plot_heatmap_by_group(\n",
    "    df_scheduled_enhanced_apt_metrics,\n",
    "    group_col=\"TAG_END_WITHOUT_COVID\",\n",
    "    x_col=\"RATING_A\",\n",
    "    y_col=\"RATING_B\",\n",
    "    # normalize=True\n",
    "    )\n",
    "    .update_layout(height = 500)\n",
    "    .update_xaxes(dtick = 0.1)\n",
    "    .update_yaxes(dtick = 0.1)\n",
    "    .update_annotations(font=dict(size=11))\n",
    ")"
   ]
  },
  {
   "cell_type": "markdown",
   "metadata": {},
   "source": [
    "## number of runways"
   ]
  },
  {
   "cell_type": "code",
   "execution_count": null,
   "metadata": {},
   "outputs": [],
   "source": [
    "(\n",
    "    plot_heatmap_by_group(\n",
    "    df_scheduled_enhanced_apt_metrics,\n",
    "    group_col=\"IS_OPENING\",\n",
    "    x_col=\"NB_RUNWAYS_A\",\n",
    "    y_col=\"NB_RUNWAYS_B\",\n",
    "    # normalize=True\n",
    "    )\n",
    "    .update_layout(height = 500)\n",
    "    # .update_xaxes(dtick = 0.1)\n",
    "    # .update_yaxes(dtick = 0.1)\n",
    ")"
   ]
  },
  {
   "cell_type": "code",
   "execution_count": null,
   "metadata": {},
   "outputs": [],
   "source": [
    "(\n",
    "    plot_heatmap_by_group(\n",
    "    df_scheduled_enhanced_apt_metrics,\n",
    "    group_col=\"TAG_DURATION_OPENING\",\n",
    "    x_col=\"NB_RUNWAYS_A\",\n",
    "    y_col=\"NB_RUNWAYS_B\",\n",
    "    # normalize=True\n",
    "    )\n",
    "    .update_layout(height = 500)\n",
    "    .update_xaxes(dtick = 1)\n",
    "\n",
    ")"
   ]
  },
  {
   "cell_type": "code",
   "execution_count": null,
   "metadata": {},
   "outputs": [],
   "source": [
    "(\n",
    "    plot_heatmap_by_group(\n",
    "    df_scheduled_enhanced_apt_metrics,\n",
    "    group_col=\"TAG_END_WITHOUT_COVID\",\n",
    "    x_col=\"NB_RUNWAYS_A\",\n",
    "    y_col=\"NB_RUNWAYS_B\",\n",
    "    # normalize=True\n",
    "    )\n",
    "    .update_layout(height = 500)\n",
    "    .update_xaxes(dtick = 1)\n",
    "    .update_annotations(font=dict(size=11))\n",
    "\n",
    ")"
   ]
  },
  {
   "cell_type": "markdown",
   "metadata": {},
   "source": [
    "## is island"
   ]
  },
  {
   "cell_type": "code",
   "execution_count": null,
   "metadata": {},
   "outputs": [],
   "source": [
    "(\n",
    "    plot_heatmap_by_group(\n",
    "    df_scheduled_enhanced_apt_metrics,\n",
    "    group_col=\"IS_OPENING\",\n",
    "    x_col=\"IS_ISLAND_A\",\n",
    "    y_col=\"IS_ISLAND_B\",\n",
    "    )\n",
    ")"
   ]
  },
  {
   "cell_type": "code",
   "execution_count": null,
   "metadata": {},
   "outputs": [],
   "source": [
    "# (\n",
    "#     plot_heatmap_by_group(\n",
    "#     df_scheduled_enhanced_apt_metrics,\n",
    "#     group_col=\"TAG_DURATION_OPENING\",\n",
    "#     x_col=\"IS_ISLAND_A\",\n",
    "#     y_col=\"IS_ISLAND_B\",\n",
    "#     )\n",
    "# )"
   ]
  },
  {
   "cell_type": "code",
   "execution_count": null,
   "metadata": {},
   "outputs": [],
   "source": [
    "# (\n",
    "#     plot_heatmap_by_group(\n",
    "#     df_scheduled_enhanced_apt_metrics,\n",
    "#     group_col=\"TAG_END_WITHOUT_COVID\",\n",
    "#     x_col=\"IS_ISLAND_A\",\n",
    "#     y_col=\"IS_ISLAND_B\",\n",
    "#     )\n",
    "# )"
   ]
  },
  {
   "cell_type": "markdown",
   "metadata": {},
   "source": [
    "## airport to city drive distance"
   ]
  },
  {
   "cell_type": "code",
   "execution_count": null,
   "metadata": {},
   "outputs": [],
   "source": [
    "bin_size = 10\n",
    "\n",
    "df_binned = (\n",
    "    df_scheduled_enhanced_apt_metrics\n",
    "    .with_columns(APT_CITY_DRIVE_DIST_KM_A_BIN = d.APT_CITY_DRIVE_DIST_KM_A // bin_size * bin_size)\n",
    "    .with_columns(APT_CITY_DRIVE_DIST_KM_B_BIN = d.APT_CITY_DRIVE_DIST_KM_B // bin_size * bin_size)\n",
    ")"
   ]
  },
  {
   "cell_type": "code",
   "execution_count": null,
   "metadata": {},
   "outputs": [],
   "source": [
    "(\n",
    "    plot_heatmap_by_group(\n",
    "    df_binned,\n",
    "    group_col=\"IS_OPENING\",\n",
    "    x_col=\"APT_CITY_DRIVE_DIST_KM_A_BIN\",\n",
    "    y_col=\"APT_CITY_DRIVE_DIST_KM_B_BIN\",\n",
    "    )\n",
    "    # .update_layout(height = 500)\n",
    "    # .update_xaxes(dtick = 10)\n",
    "    # .update_yaxes(dtick = 10)\n",
    "\n",
    ")"
   ]
  },
  {
   "cell_type": "code",
   "execution_count": null,
   "metadata": {},
   "outputs": [],
   "source": [
    "(\n",
    "    plot_heatmap_by_group(\n",
    "    df_binned,\n",
    "    group_col=\"TAG_DURATION_OPENING\",\n",
    "    x_col=\"APT_CITY_DRIVE_DIST_KM_A_BIN\",\n",
    "    y_col=\"APT_CITY_DRIVE_DIST_KM_B_BIN\",\n",
    "    )\n",
    "    # .update_layout(height = 500)\n",
    "    # .update_xaxes(dtick = 10)\n",
    "    # .update_yaxes(dtick = 10)\n",
    "\n",
    ")"
   ]
  },
  {
   "cell_type": "code",
   "execution_count": null,
   "metadata": {},
   "outputs": [],
   "source": [
    "(\n",
    "    plot_heatmap_by_group(\n",
    "    df_binned,\n",
    "    group_col=\"TAG_END_WITHOUT_COVID\",\n",
    "    x_col=\"APT_CITY_DRIVE_DIST_KM_A_BIN\",\n",
    "    y_col=\"APT_CITY_DRIVE_DIST_KM_B_BIN\",\n",
    "    )\n",
    "    # .update_layout(height = 500)\n",
    "    # .update_xaxes(dtick = 10)\n",
    "    # .update_yaxes(dtick = 10)\n",
    "    .update_annotations(font=dict(size=11))\n",
    "\n",
    "\n",
    ")"
   ]
  },
  {
   "cell_type": "markdown",
   "metadata": {},
   "source": [
    "## airport to city time distance"
   ]
  },
  {
   "cell_type": "code",
   "execution_count": null,
   "metadata": {},
   "outputs": [],
   "source": [
    "bin_size = 0.2\n",
    "\n",
    "df_binned = (\n",
    "    df_scheduled_enhanced_apt_metrics\n",
    "    .with_columns(APT_CITY_DRIVE_TIME_H_A_BIN = (d.APT_CITY_DRIVE_TIME_H_A // bin_size * bin_size).round(1))\n",
    "    .with_columns(APT_CITY_DRIVE_TIME_H_B_BIN = (d.APT_CITY_DRIVE_TIME_H_B // bin_size * bin_size).round(1))\n",
    ")"
   ]
  },
  {
   "cell_type": "code",
   "execution_count": null,
   "metadata": {},
   "outputs": [],
   "source": [
    "(\n",
    "    plot_heatmap_by_group(\n",
    "    df_binned,\n",
    "    group_col=\"IS_OPENING\",\n",
    "    x_col=\"APT_CITY_DRIVE_TIME_H_A_BIN\",\n",
    "    y_col=\"APT_CITY_DRIVE_TIME_H_B_BIN\",\n",
    "    )\n",
    "    .update_xaxes(dtick = 0.2)\n",
    "    .update_yaxes(dtick = 0.2)\n",
    "\n",
    ")"
   ]
  },
  {
   "cell_type": "code",
   "execution_count": null,
   "metadata": {},
   "outputs": [],
   "source": [
    "(\n",
    "    plot_heatmap_by_group(\n",
    "    df_binned,\n",
    "    group_col=\"TAG_DURATION_OPENING\",\n",
    "    x_col=\"APT_CITY_DRIVE_TIME_H_A_BIN\",\n",
    "    y_col=\"APT_CITY_DRIVE_TIME_H_B_BIN\",\n",
    "    )\n",
    "    .update_xaxes(dtick = 0.2)\n",
    "    .update_yaxes(dtick = 0.2)\n",
    "\n",
    ")"
   ]
  },
  {
   "cell_type": "code",
   "execution_count": null,
   "metadata": {},
   "outputs": [],
   "source": [
    "(\n",
    "    plot_heatmap_by_group(\n",
    "    df_binned,\n",
    "    group_col=\"TAG_END_WITHOUT_COVID\",\n",
    "    x_col=\"APT_CITY_DRIVE_TIME_H_A_BIN\",\n",
    "    y_col=\"APT_CITY_DRIVE_TIME_H_B_BIN\",\n",
    "    )\n",
    "    .update_xaxes(dtick = 0.2)\n",
    "    .update_yaxes(dtick = 0.2)\n",
    "    .update_annotations(font=dict(size=11))\n",
    ")"
   ]
  },
  {
   "cell_type": "markdown",
   "metadata": {},
   "source": [
    "## elevation"
   ]
  },
  {
   "cell_type": "code",
   "execution_count": null,
   "metadata": {},
   "outputs": [],
   "source": [
    "bin_size = 500\n",
    "\n",
    "df_binned = (\n",
    "    df_scheduled_enhanced_apt_metrics\n",
    "    .with_columns(ELEV_FT_A_BIN = d.ELEV_FT_A // bin_size * bin_size)\n",
    "    .with_columns(ELEV_FT_B_BIN = d.ELEV_FT_B // bin_size * bin_size)\n",
    ")"
   ]
  },
  {
   "cell_type": "code",
   "execution_count": null,
   "metadata": {},
   "outputs": [],
   "source": [
    "(\n",
    "    plot_heatmap_by_group(\n",
    "    df_binned,\n",
    "    group_col=\"IS_OPENING\",\n",
    "    x_col=\"ELEV_FT_A_BIN\",\n",
    "    y_col=\"ELEV_FT_B_BIN\",\n",
    "    )\n",
    "    # .update_xaxes(dtick = 500)\n",
    "    # .update_yaxes(dtick = 500)\n",
    "\n",
    ")"
   ]
  },
  {
   "cell_type": "code",
   "execution_count": null,
   "metadata": {},
   "outputs": [],
   "source": [
    "(\n",
    "    plot_heatmap_by_group(\n",
    "    df_binned,\n",
    "    group_col=\"TAG_DURATION_OPENING\",\n",
    "    x_col=\"ELEV_FT_A_BIN\",\n",
    "    y_col=\"ELEV_FT_B_BIN\",\n",
    "    )\n",
    "    # .update_xaxes(dtick = 500)\n",
    "    # .update_yaxes(dtick = 500)\n",
    "\n",
    ")"
   ]
  },
  {
   "cell_type": "code",
   "execution_count": null,
   "metadata": {},
   "outputs": [],
   "source": [
    "(\n",
    "    plot_heatmap_by_group(\n",
    "    df_binned,\n",
    "    group_col=\"TAG_END_WITHOUT_COVID\",\n",
    "    x_col=\"ELEV_FT_A_BIN\",\n",
    "    y_col=\"ELEV_FT_B_BIN\",\n",
    "    )\n",
    "    # .update_xaxes(dtick = 500)\n",
    "    # .update_yaxes(dtick = 500)\n",
    "    .update_annotations(font=dict(size=11))\n",
    ")"
   ]
  },
  {
   "cell_type": "markdown",
   "metadata": {},
   "source": [
    "## time zone"
   ]
  },
  {
   "cell_type": "code",
   "execution_count": null,
   "metadata": {},
   "outputs": [],
   "source": [
    "(\n",
    "    plot_heatmap_by_group(\n",
    "    df_scheduled_enhanced_apt_metrics,\n",
    "    group_col=\"IS_OPENING\",\n",
    "    x_col=\"TIME_ZONE_2016_A\",\n",
    "    y_col=\"TIME_ZONE_2016_B\",\n",
    "    # normalize=True\n",
    "    )\n",
    "    .update_layout(height = 600)\n",
    "    .update_xaxes(dtick = 1)\n",
    "    .update_yaxes(dtick = 1)\n",
    ")"
   ]
  },
  {
   "cell_type": "code",
   "execution_count": null,
   "metadata": {},
   "outputs": [],
   "source": [
    "(\n",
    "    plot_heatmap_by_group(\n",
    "    df_scheduled_enhanced_apt_metrics,\n",
    "    group_col=\"TAG_DURATION_OPENING\",\n",
    "    x_col=\"TIME_ZONE_2016_A\",\n",
    "    y_col=\"TIME_ZONE_2016_B\",\n",
    "    # normalize=True\n",
    "    )\n",
    "    .update_layout(height = 580)\n",
    "    .update_xaxes(dtick = 1)\n",
    "    .update_yaxes(dtick = 1)\n",
    ")"
   ]
  },
  {
   "cell_type": "code",
   "execution_count": null,
   "metadata": {},
   "outputs": [],
   "source": [
    "(\n",
    "    plot_heatmap_by_group(\n",
    "    df_scheduled_enhanced_apt_metrics,\n",
    "    group_col=\"TAG_END_WITHOUT_COVID\",\n",
    "    x_col=\"TIME_ZONE_2016_A\",\n",
    "    y_col=\"TIME_ZONE_2016_B\",\n",
    "    # normalize=True\n",
    "    )\n",
    "    .update_layout(height = 500)\n",
    "    .update_xaxes(dtick = 1)\n",
    "    .update_yaxes(dtick = 1)\n",
    "    .update_annotations(font=dict(size=11))\n",
    ")"
   ]
  },
  {
   "cell_type": "markdown",
   "metadata": {},
   "source": [
    "# Ideas"
   ]
  },
  {
   "cell_type": "markdown",
   "metadata": {},
   "source": [
    "- Add range\n",
    "- Add TO/LDG faisability"
   ]
  },
  {
   "cell_type": "markdown",
   "metadata": {},
   "source": []
  }
 ],
 "metadata": {
  "kernelspec": {
   "display_name": "optim",
   "language": "python",
   "name": "python3"
  },
  "language_info": {
   "codemirror_mode": {
    "name": "ipython",
    "version": 3
   },
   "file_extension": ".py",
   "mimetype": "text/x-python",
   "name": "python",
   "nbconvert_exporter": "python",
   "pygments_lexer": "ipython3",
   "version": "3.10.13"
  }
 },
 "nbformat": 4,
 "nbformat_minor": 2
}
