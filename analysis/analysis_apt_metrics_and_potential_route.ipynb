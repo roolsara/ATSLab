{
 "cells": [
  {
   "cell_type": "markdown",
   "metadata": {},
   "source": [
    "<div class=\"alert alert-block alert-info\"> In this notebook, I want to examine whether there are differences between routes that already existed and all possible routes by comparing them against airport metrics. (on the international market) </div>"
   ]
  },
  {
   "cell_type": "markdown",
   "metadata": {},
   "source": [
    "# Import"
   ]
  },
  {
   "cell_type": "markdown",
   "metadata": {},
   "source": [
    "## lib"
   ]
  },
  {
   "cell_type": "code",
   "execution_count": null,
   "metadata": {},
   "outputs": [],
   "source": [
    "%load_ext autoreload\n",
    "%autoreload 2"
   ]
  },
  {
   "cell_type": "code",
   "execution_count": null,
   "metadata": {},
   "outputs": [],
   "source": [
    "import numpy as np\n",
    "import polars as pl\n",
    "import pandas as pd\n",
    "from polars import col as d\n",
    "import glob\n",
    "import os\n",
    "import plotly.express as px"
   ]
  },
  {
   "cell_type": "markdown",
   "metadata": {},
   "source": [
    "## plot"
   ]
  },
  {
   "cell_type": "code",
   "execution_count": null,
   "metadata": {},
   "outputs": [],
   "source": [
    "from utils_plot import facet_distribution_plot\n",
    "from utils_plot import plot_heatmap_by_group"
   ]
  },
  {
   "cell_type": "markdown",
   "metadata": {},
   "source": [
    "## csv"
   ]
  },
  {
   "cell_type": "code",
   "execution_count": null,
   "metadata": {},
   "outputs": [],
   "source": [
    "folder_path = '/home/sara/Desktop/ATSLab/data/' "
   ]
  },
  {
   "cell_type": "code",
   "execution_count": null,
   "metadata": {},
   "outputs": [],
   "source": [
    "df_route_combinaison_enhanced = pl.read_parquet(folder_path+\"df_route_combinaison_enhanced.parquet\")"
   ]
  },
  {
   "cell_type": "markdown",
   "metadata": {},
   "source": [
    "## some variables"
   ]
  },
  {
   "cell_type": "code",
   "execution_count": null,
   "metadata": {},
   "outputs": [],
   "source": [
    "dico_has_existed = {\n",
    "    False: \"#E57373\",\n",
    "    True: \"#81C784\"\n",
    "}"
   ]
  },
  {
   "cell_type": "markdown",
   "metadata": {},
   "source": [
    "# Volume of data"
   ]
  },
  {
   "cell_type": "code",
   "execution_count": null,
   "metadata": {},
   "outputs": [],
   "source": [
    "(\n",
    "    df_route_combinaison_enhanced\n",
    "    .group_by('HAS_EXISTED')\n",
    "    .agg(pl.len().alias('COUNT'))\n",
    ")"
   ]
  },
  {
   "cell_type": "markdown",
   "metadata": {},
   "source": [
    "# Histogram"
   ]
  },
  {
   "cell_type": "markdown",
   "metadata": {},
   "source": [
    "## airport to city drive distance"
   ]
  },
  {
   "cell_type": "code",
   "execution_count": null,
   "metadata": {},
   "outputs": [],
   "source": [
    "(\n",
    "    facet_distribution_plot(df_route_combinaison_enhanced.to_pandas(), category = 'HAS_EXISTED', title_x = 'distance (km)', value_vars= ['APT_CITY_DRIVE_DIST_KM_A', 'APT_CITY_DRIVE_DIST_KM_B', 'ROUTE_DRIVE_DIST_KM'], dico_color = dico_has_existed, nbins = 50)\n",
    "    .update_xaxes(dtick = 10)\n",
    "    # .update_yaxes(matches = None)\n",
    ")"
   ]
  },
  {
   "cell_type": "markdown",
   "metadata": {},
   "source": [
    "## airport to city drive time"
   ]
  },
  {
   "cell_type": "code",
   "execution_count": null,
   "metadata": {},
   "outputs": [],
   "source": [
    "(\n",
    "    facet_distribution_plot(df_route_combinaison_enhanced.to_pandas(), category = 'HAS_EXISTED', value_vars= ['APT_CITY_DRIVE_TIME_H_A', 'APT_CITY_DRIVE_TIME_H_B', 'ROUTE_DRIVE_TIME_H'], title_x = 'time (h)', dico_color=dico_has_existed, nbins = 50)\n",
    "    .update_xaxes(dtick = 0.2)\n",
    "    # .update_yaxes(matches = None)\n",
    "\n",
    ")"
   ]
  },
  {
   "cell_type": "markdown",
   "metadata": {},
   "source": [
    "## elevation"
   ]
  },
  {
   "cell_type": "code",
   "execution_count": null,
   "metadata": {},
   "outputs": [],
   "source": [
    "(\n",
    "    facet_distribution_plot(df_route_combinaison_enhanced.to_pandas(), dico_color=dico_has_existed, title_x = 'elevation (ft)', category = 'HAS_EXISTED', value_vars= ['ELEV_FT_A', 'ELEV_FT_B'], nbins = 50)\n",
    "    .update_xaxes(dtick = 200)\n",
    "\n",
    ")"
   ]
  },
  {
   "cell_type": "code",
   "execution_count": null,
   "metadata": {},
   "outputs": [],
   "source": [
    "(\n",
    "    facet_distribution_plot(df_combinaison_enhanced_apt_metrics.to_pandas(), dico_color=dico_has_existed, title_x = 'elevation log', category = 'HAS_EXISTED', value_vars= ['ELEV_LOG_FT_A', 'ELEV_LOG_FT_B'], nbins = 30)\n",
    "    .update_xaxes(dtick = 0.5)\n",
    "\n",
    ")"
   ]
  },
  {
   "cell_type": "markdown",
   "metadata": {},
   "source": [
    "## ratings"
   ]
  },
  {
   "cell_type": "code",
   "execution_count": null,
   "metadata": {},
   "outputs": [],
   "source": [
    "(\n",
    "    facet_distribution_plot(df_route_combinaison_enhanced.to_pandas(), category = 'HAS_EXISTED', title_x = 'rating', dico_color=dico_has_existed, value_vars= ['RATING_A', 'RATING_B', 'ROUTE_RATING'], nbins = 80)\n",
    "    .update_xaxes(dtick = 0.1)\n",
    "    # .update_yaxes(matches = None)\n",
    "\n",
    ")"
   ]
  },
  {
   "cell_type": "markdown",
   "metadata": {},
   "source": [
    "## time zone"
   ]
  },
  {
   "cell_type": "code",
   "execution_count": null,
   "metadata": {},
   "outputs": [],
   "source": [
    "(\n",
    "    facet_distribution_plot(df_route_combinaison_enhanced.to_pandas(), category = 'HAS_EXISTED', dico_color=dico_has_existed, title_x='time zone', value_vars= ['TIME_ZONE_2016_A', 'TIME_ZONE_2016_B', 'TIME_ZONE_DIFF'], nbins = 30)\n",
    "    .update_xaxes(dtick = 1)\n",
    ")"
   ]
  },
  {
   "cell_type": "markdown",
   "metadata": {},
   "source": [
    "## number of runways"
   ]
  },
  {
   "cell_type": "code",
   "execution_count": null,
   "metadata": {},
   "outputs": [],
   "source": [
    "(\n",
    "    facet_distribution_plot(df_route_combinaison_enhanced.to_pandas(), category = 'HAS_EXISTED', title_x='number of runways', dico_color=dico_has_existed, value_vars= ['NB_RUNWAYS_A', 'NB_RUNWAYS_B'], nbins = 30)\n",
    "    .update_xaxes(dtick = 1)\n",
    ")"
   ]
  },
  {
   "cell_type": "markdown",
   "metadata": {},
   "source": [
    "## number of review"
   ]
  },
  {
   "cell_type": "code",
   "execution_count": null,
   "metadata": {},
   "outputs": [],
   "source": [
    "(\n",
    "    facet_distribution_plot(df_route_combinaison_enhanced.to_pandas(), category = 'HAS_EXISTED', title_x='number of review', dico_color=dico_has_existed, value_vars= ['NB_REVIEW_LOG_A', 'NB_REVIEW_LOG_B'], nbins = 20)\n",
    "    .update_xaxes(dtick = 1)\n",
    ")"
   ]
  },
  {
   "cell_type": "markdown",
   "metadata": {},
   "source": [
    "# Heatmap"
   ]
  },
  {
   "cell_type": "markdown",
   "metadata": {},
   "source": [
    "## ratings"
   ]
  },
  {
   "cell_type": "code",
   "execution_count": null,
   "metadata": {},
   "outputs": [],
   "source": [
    "(\n",
    "    plot_heatmap_by_group(\n",
    "    df_route_combinaison_enhanced,\n",
    "    group_col=\"HAS_EXISTED\",\n",
    "    x_col=\"RATING_A\",\n",
    "    y_col=\"RATING_B\",\n",
    "    # normalize=True\n",
    "    )\n",
    "    .update_layout(height = 700)\n",
    "    .update_xaxes(dtick = 0.1)\n",
    "    .update_yaxes(dtick = 0.1)\n",
    "\n",
    ")"
   ]
  },
  {
   "cell_type": "markdown",
   "metadata": {},
   "source": [
    "## number of runways"
   ]
  },
  {
   "cell_type": "code",
   "execution_count": null,
   "metadata": {},
   "outputs": [],
   "source": [
    "(\n",
    "    plot_heatmap_by_group(\n",
    "    df_route_combinaison_enhanced,\n",
    "    group_col=\"HAS_EXISTED\",\n",
    "    x_col=\"NB_RUNWAYS_A\",\n",
    "    y_col=\"NB_RUNWAYS_B\",\n",
    "    # normalize=True\n",
    "    )\n",
    "    .update_layout(height = 500)\n",
    "    .update_xaxes(dtick = 1)\n",
    "    .update_yaxes(dtick = 1)\n",
    ")"
   ]
  },
  {
   "cell_type": "markdown",
   "metadata": {},
   "source": [
    "## is island"
   ]
  },
  {
   "cell_type": "code",
   "execution_count": null,
   "metadata": {},
   "outputs": [],
   "source": [
    "(\n",
    "    plot_heatmap_by_group(\n",
    "    df_route_combinaison_enhanced,\n",
    "    group_col=\"HAS_EXISTED\",\n",
    "    x_col=\"IS_ISLAND_A\",\n",
    "    y_col=\"IS_ISLAND_B\",\n",
    "    )\n",
    ")"
   ]
  },
  {
   "cell_type": "markdown",
   "metadata": {},
   "source": [
    "## airport to city drive distance"
   ]
  },
  {
   "cell_type": "code",
   "execution_count": null,
   "metadata": {},
   "outputs": [],
   "source": [
    "bin_size = 10\n",
    "\n",
    "df_binned = (\n",
    "    df_route_combinaison_enhanced\n",
    "    .with_columns(APT_CITY_DRIVE_DIST_KM_A_BIN = d.APT_CITY_DRIVE_DIST_KM_A // bin_size * bin_size)\n",
    "    .with_columns(APT_CITY_DRIVE_DIST_KM_B_BIN = d.APT_CITY_DRIVE_DIST_KM_B // bin_size * bin_size)\n",
    ")"
   ]
  },
  {
   "cell_type": "code",
   "execution_count": null,
   "metadata": {},
   "outputs": [],
   "source": [
    "(\n",
    "    plot_heatmap_by_group(\n",
    "    df_binned,\n",
    "    group_col=\"HAS_EXISTED\",\n",
    "    x_col=\"APT_CITY_DRIVE_DIST_KM_A_BIN\",\n",
    "    y_col=\"APT_CITY_DRIVE_DIST_KM_B_BIN\",\n",
    "    )\n",
    "    # .update_layout(height = 500)\n",
    "    # .update_xaxes(dtick = 10)\n",
    "    # .update_yaxes(dtick = 10)\n",
    "\n",
    ")"
   ]
  },
  {
   "cell_type": "markdown",
   "metadata": {},
   "source": [
    "## airport to city time distance"
   ]
  },
  {
   "cell_type": "code",
   "execution_count": null,
   "metadata": {},
   "outputs": [],
   "source": [
    "bin_size = 0.2\n",
    "\n",
    "df_binned = (\n",
    "    df_route_combinaison_enhanced\n",
    "    .with_columns(APT_CITY_DRIVE_TIME_H_A_BIN = (d.APT_CITY_DRIVE_TIME_H_A // bin_size * bin_size).round(1))\n",
    "    .with_columns(APT_CITY_DRIVE_TIME_H_B_BIN = (d.APT_CITY_DRIVE_TIME_H_B // bin_size * bin_size).round(1))\n",
    ")"
   ]
  },
  {
   "cell_type": "code",
   "execution_count": null,
   "metadata": {},
   "outputs": [],
   "source": [
    "(\n",
    "    plot_heatmap_by_group(\n",
    "    df_binned,\n",
    "    group_col=\"HAS_EXISTED\",\n",
    "    x_col=\"APT_CITY_DRIVE_TIME_H_A_BIN\",\n",
    "    y_col=\"APT_CITY_DRIVE_TIME_H_B_BIN\",\n",
    "    )\n",
    "    .update_xaxes(dtick = 0.2)\n",
    "    .update_yaxes(dtick = 0.2)\n",
    "\n",
    ")"
   ]
  },
  {
   "cell_type": "markdown",
   "metadata": {},
   "source": [
    "## elevation"
   ]
  },
  {
   "cell_type": "code",
   "execution_count": null,
   "metadata": {},
   "outputs": [],
   "source": [
    "bin_size = 500\n",
    "\n",
    "df_binned = (\n",
    "    df_route_combinaison_enhanced\n",
    "    .with_columns(ELEV_FT_A_BIN = d.ELEV_FT_A // bin_size * bin_size)\n",
    "    .with_columns(ELEV_FT_B_BIN = d.ELEV_FT_B // bin_size * bin_size)\n",
    ")"
   ]
  },
  {
   "cell_type": "code",
   "execution_count": null,
   "metadata": {},
   "outputs": [],
   "source": [
    "(\n",
    "    plot_heatmap_by_group(\n",
    "    df_binned,\n",
    "    group_col=\"HAS_EXISTED\",\n",
    "    x_col=\"ELEV_FT_A_BIN\",\n",
    "    y_col=\"ELEV_FT_B_BIN\",\n",
    "    )\n",
    "    # .update_xaxes(dtick = 500)\n",
    "    # .update_yaxes(dtick = 500)\n",
    "\n",
    ")"
   ]
  },
  {
   "cell_type": "markdown",
   "metadata": {},
   "source": [
    "## time zone"
   ]
  },
  {
   "cell_type": "code",
   "execution_count": null,
   "metadata": {},
   "outputs": [],
   "source": [
    "(\n",
    "    plot_heatmap_by_group(\n",
    "    df_route_combinaison_enhanced,\n",
    "    group_col=\"HAS_EXISTED\",\n",
    "    x_col=\"TIME_ZONE_2016_A\",\n",
    "    y_col=\"TIME_ZONE_2016_B\",\n",
    "    # normalize=True\n",
    "    )\n",
    "    .update_layout(height = 600)\n",
    "    .update_xaxes(dtick = 1)\n",
    "    .update_yaxes(dtick = 1)\n",
    ")"
   ]
  },
  {
   "cell_type": "markdown",
   "metadata": {},
   "source": [
    "## number of review"
   ]
  },
  {
   "cell_type": "code",
   "execution_count": null,
   "metadata": {},
   "outputs": [],
   "source": [
    "bin_size = 1\n",
    "\n",
    "df_binned = (\n",
    "    df_route_combinaison_enhanced\n",
    "    .with_columns(NB_REVIEW_LOG_A_BIN = (d.NB_REVIEW_LOG_A // bin_size * bin_size).round(1))\n",
    "    .with_columns(NB_REVIEW_LOG_B_BIN = (d.NB_REVIEW_LOG_B // bin_size * bin_size).round(1))\n",
    ")"
   ]
  },
  {
   "cell_type": "code",
   "execution_count": null,
   "metadata": {},
   "outputs": [],
   "source": [
    "(\n",
    "    plot_heatmap_by_group(\n",
    "    df_binned,\n",
    "    group_col=\"HAS_EXISTED\",\n",
    "    x_col=\"NB_REVIEW_LOG_A_BIN\",\n",
    "    y_col=\"NB_REVIEW_LOG_B_BIN\",\n",
    "    # normalize=True\n",
    "    )\n",
    "    .update_layout(height = 400)\n",
    "    # .update_xaxes(dtick = 0.1)\n",
    "    # .update_yaxes(dtick = 0.1)\n",
    "\n",
    "\n",
    "\n",
    ")"
   ]
  },
  {
   "cell_type": "markdown",
   "metadata": {},
   "source": [
    "# Range"
   ]
  },
  {
   "cell_type": "code",
   "execution_count": null,
   "metadata": {},
   "outputs": [],
   "source": [
    "(\n",
    "    facet_distribution_plot(df_route_combinaison_enhanced.to_pandas(), category = 'HAS_EXISTED', title_x = 'distance great circle (km)', value_vars= ['DIST_GC_KM'], dico_color = dico_has_existed, nbins = 60, height = 450)\n",
    "    .update_xaxes(dtick = 200)\n",
    "    # .update_yaxes(matches = None)\n",
    "\n",
    "    .add_scatter(\n",
    "        x=[8700, 8700],\n",
    "        y=[0,0.064],\n",
    "        mode=\"lines\",\n",
    "        line=dict(color='black', dash='dash', width=2),\n",
    "        name=\"Max XLR range\"\n",
    "    )\n",
    "\n",
    "    .add_scatter(\n",
    "        x=[7400, 7400],\n",
    "        y=[0,0.064],\n",
    "        mode=\"lines\",\n",
    "        line=dict(color='black', dash='dot', width=2),\n",
    "        name=\"Max LR range\"\n",
    "    )\n",
    "\n",
    "    .add_shape(\n",
    "        type=\"rect\",\n",
    "        x0=7400,\n",
    "        x1=8700,\n",
    "        y0=0,\n",
    "        xref=\"x\",\n",
    "        yref=\"paper\",  \n",
    "        line=dict(color=\"black\", width=2),\n",
    "        fillcolor=\"black\",\n",
    "        opacity=0.3,\n",
    "    )\n",
    "\n",
    ")"
   ]
  },
  {
   "cell_type": "markdown",
   "metadata": {},
   "source": [
    "# TO/LDG faisability"
   ]
  },
  {
   "cell_type": "code",
   "execution_count": null,
   "metadata": {},
   "outputs": [],
   "source": [
    "base_TO = 2800.0 ## m\n",
    "base_LDG = 1800.0 ## m\n",
    "\n",
    "x_vals = np.linspace(df_route_combinaison_enhanced[\"RUNWAY_M\"].min(), df_route_combinaison_enhanced[\"RUNWAY_M\"].max(), 100)\n",
    "y_vals_to = ((x_vals / base_TO ) - 1) / 0.07 * 1000\n",
    "y_vals_ldg = ((x_vals / base_LDG) - 1) / 0.07 * 1000\n",
    "\n",
    "(\n",
    "    px.scatter(\n",
    "    df_route_combinaison_enhanced.to_pandas(),\n",
    "    x=\"RUNWAY_M\",\n",
    "    y=\"ELEV_FT_A\",\n",
    "    color=\"IS_FEASIBLE\",\n",
    "    labels={\"RUNWAY_M\": \"Runway lenght (m)\", \"ELEV_FT_A\": \"Elevation (ft)\"},\n",
    "    title=\"Take off/ landing faisability\",\n",
    "    color_discrete_map = dico_has_existed\n",
    "    )\n",
    "    \n",
    "    .add_scatter(x=x_vals, y=y_vals_to, mode=\"lines\", line=dict(color=\"black\", dash=\"dash\"), name=\"Limit take off\")\n",
    "    .add_scatter(x=x_vals, y=y_vals_ldg, mode=\"lines\", line=dict(color=\"black\", dash=\"dot\"), name=\"Limit landing\")\n",
    "    .update_yaxes(range= [-200,8000])\n",
    "    .update_xaxes(dtick = 200)\n",
    "\n",
    ")"
   ]
  },
  {
   "cell_type": "code",
   "execution_count": null,
   "metadata": {},
   "outputs": [],
   "source": []
  }
 ],
 "metadata": {
  "kernelspec": {
   "display_name": "optim",
   "language": "python",
   "name": "python3"
  },
  "language_info": {
   "codemirror_mode": {
    "name": "ipython",
    "version": 3
   },
   "file_extension": ".py",
   "mimetype": "text/x-python",
   "name": "python",
   "nbconvert_exporter": "python",
   "pygments_lexer": "ipython3",
   "version": "3.10.13"
  }
 },
 "nbformat": 4,
 "nbformat_minor": 2
}
