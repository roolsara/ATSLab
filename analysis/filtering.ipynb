{
 "cells": [
  {
   "cell_type": "markdown",
   "metadata": {},
   "source": [
    "<div class=\"alert alert-block alert-info\"> Notebook to filter routes from the full set of possible routes, to be used alongside the other analysis notebooks. </div>"
   ]
  },
  {
   "cell_type": "markdown",
   "metadata": {},
   "source": [
    "# Import"
   ]
  },
  {
   "cell_type": "markdown",
   "metadata": {},
   "source": [
    "## lib"
   ]
  },
  {
   "cell_type": "code",
   "execution_count": null,
   "metadata": {},
   "outputs": [],
   "source": [
    "import numpy as np\n",
    "import polars as pl\n",
    "import pandas as pd\n",
    "from polars import col as d\n",
    "import glob\n",
    "import os"
   ]
  },
  {
   "cell_type": "markdown",
   "metadata": {},
   "source": [
    "## csv"
   ]
  },
  {
   "cell_type": "code",
   "execution_count": null,
   "metadata": {},
   "outputs": [],
   "source": [
    "folder_path = '/home/sara/Desktop/ATSLab/data/' "
   ]
  },
  {
   "cell_type": "code",
   "execution_count": null,
   "metadata": {},
   "outputs": [],
   "source": [
    "df_airports_lookup_modif = pl.read_csv(folder_path+\"df_airports_lookup_modif.csv\")\n",
    "df_airports_metrics_modif = pl.read_csv(folder_path+\"df_airports_metrics_modif.csv\")\n",
    "df_scheduled = pl.read_parquet(folder_path+\"scheduled_dataset_transatlantic_enhanced.parquet\") ## change name\n",
    "df_airports_ratings = pl.read_csv(\"/home/sara/Desktop/ATSLab/data_scrapping/csv_output/20250819_output_airport_ratings.csv\")"
   ]
  },
  {
   "cell_type": "code",
   "execution_count": null,
   "metadata": {},
   "outputs": [],
   "source": [
    "df_route_combinaison_enhanced = pl.read_parquet(folder_path+'df_route_combinaison_enhanced.parquet')"
   ]
  },
  {
   "cell_type": "markdown",
   "metadata": {},
   "source": [
    "# Filtering based on XLR performance / airports feasibility"
   ]
  },
  {
   "cell_type": "markdown",
   "metadata": {},
   "source": [
    "## range"
   ]
  },
  {
   "cell_type": "code",
   "execution_count": null,
   "metadata": {},
   "outputs": [],
   "source": [
    "(\n",
    "    df_route_combinaison_enhanced\n",
    "\n",
    "    ## from 283_404 to 80_880\n",
    "    .filter(d.DIST_GC_KM <= 8700)\n",
    "    .filter(d.DIST_GC_KM >= 7400)  \n",
    "    .head(2) \n",
    ")"
   ]
  },
  {
   "cell_type": "markdown",
   "metadata": {},
   "source": [
    "## landing/take off"
   ]
  },
  {
   "cell_type": "code",
   "execution_count": null,
   "metadata": {},
   "outputs": [],
   "source": [
    "(\n",
    "    df_route_combinaison_enhanced\n",
    "    .filter(d.IS_FEASIBLE)\n",
    "    .head(2)\n",
    "\n",
    "    ## from 283_404 to 97_044\n",
    ")"
   ]
  },
  {
   "cell_type": "markdown",
   "metadata": {},
   "source": [
    "## width runway"
   ]
  },
  {
   "cell_type": "markdown",
   "metadata": {},
   "source": [
    "don't have the data but it will be a good thing to have the width"
   ]
  },
  {
   "cell_type": "markdown",
   "metadata": {},
   "source": [
    "## heliport / aerodrome / industrial"
   ]
  },
  {
   "cell_type": "code",
   "execution_count": null,
   "metadata": {},
   "outputs": [],
   "source": [
    "list_heli_aero = (\n",
    "    df_airports_ratings\n",
    "    .filter(d.GOOGLE_NAME.str.contains('Heliport') | d.GOOGLE_NAME.str.contains('Aerodrome'))\n",
    "    ['APT_CODE']\n",
    "    .to_list()\n",
    ")"
   ]
  },
  {
   "cell_type": "code",
   "execution_count": null,
   "metadata": {},
   "outputs": [],
   "source": [
    "list_industrial_aiport = ['YMX']"
   ]
  },
  {
   "cell_type": "code",
   "execution_count": null,
   "metadata": {},
   "outputs": [],
   "source": [
    "(\n",
    "    df_route_combinaison_enhanced\n",
    "    ## from 283_404 to 282_048\n",
    "    # .filter(~d.APT_CODE_A.is_in(list_heli_aero))\n",
    "    # .filter(~d.APT_CODE_A.is_in(list_heli_aero))\n",
    "\n",
    "    ## from 283_404 to 282_568 (not a lot only 1 airport for the moment, can be completed with the Wikipedia data)\n",
    "    ## list industrial airport / non commercial\n",
    "    # .filter(~d.APT_CODE_A.is_in(list_industrial_aiport))\n",
    "    # .filter(~d.APT_CODE_B.is_in(list_industrial_aiport))\n",
    "\n",
    "    .head(2)\n",
    "\n",
    ")"
   ]
  },
  {
   "cell_type": "markdown",
   "metadata": {},
   "source": [
    "## closed airport"
   ]
  },
  {
   "cell_type": "code",
   "execution_count": null,
   "metadata": {},
   "outputs": [],
   "source": [
    "(\n",
    "    df_route_combinaison_enhanced\n",
    "    .filter(~d.CLOSING_YEAR_A.is_null() | ~d.CLOSING_YEAR_B.is_null()) ## 5_424\n",
    "    .head(2)\n",
    ")"
   ]
  },
  {
   "cell_type": "markdown",
   "metadata": {},
   "source": [
    "## combining every criterion"
   ]
  },
  {
   "cell_type": "code",
   "execution_count": null,
   "metadata": {},
   "outputs": [],
   "source": [
    "df_combinaison_filtered_perfo = (   \n",
    "    ## from 283_404 to 29_602\n",
    "    df_route_combinaison_enhanced\n",
    "    .filter(d.IS_FEASIBLE)\n",
    "    .filter(d.DIST_GC_KM <= 8700) ## also filter the null values\n",
    "    .filter(d.DIST_GC_KM >= 7400)  \n",
    "    .filter(d.CLOSING_YEAR_A.is_null() & d.CLOSING_YEAR_B.is_null())\n",
    "\n",
    "    .filter(~d.APT_CODE_A.is_in(list_industrial_aiport))\n",
    "    .filter(~d.APT_CODE_B.is_in(list_industrial_aiport))\n",
    "\n",
    "\n",
    "    ## doesn't change anything\n",
    "    .filter(~d.APT_CODE_A.is_in(list_heli_aero))\n",
    "    .filter(~d.APT_CODE_A.is_in(list_heli_aero))\n",
    "\n",
    "\n",
    "\n",
    "    # .filter(d.DIST_GC_KM.is_null()) ## 7_458\n",
    "\n",
    ")"
   ]
  },
  {
   "cell_type": "markdown",
   "metadata": {},
   "source": [
    "# Filtering based on aiport metrics"
   ]
  },
  {
   "cell_type": "markdown",
   "metadata": {},
   "source": [
    "## total drive distance"
   ]
  },
  {
   "cell_type": "code",
   "execution_count": null,
   "metadata": {},
   "outputs": [],
   "source": [
    "(\n",
    "    df_combinaison_filtered_perfo\n",
    "    ## from 29_602 to 25_682\n",
    "    # .filter(d.ROUTE_DRIVE_DIST_KM <= 100)\n",
    "\n",
    "    ## from 29_602 to 25_930\n",
    "    .filter(d.ROUTE_DRIVE_DIST_KM >= 20)\n",
    "    .head(2)\n",
    ")"
   ]
  },
  {
   "cell_type": "markdown",
   "metadata": {},
   "source": [
    "## drive time"
   ]
  },
  {
   "cell_type": "code",
   "execution_count": null,
   "metadata": {},
   "outputs": [],
   "source": [
    "(\n",
    "    df_combinaison_filtered_perfo\n",
    "    ## from 29_602 to 28_298\n",
    "\n",
    "    # .filter(d.APT_CITY_DRIVE_TIME_H_A <= 1.5)\n",
    "    # .filter(d.APT_CITY_DRIVE_TIME_H_B <= 1.5)\n",
    "\n",
    "    ## from 29_602 to 27_994\n",
    "    .filter(d.ROUTE_DRIVE_TIME_H >= 0.4)\n",
    "    \n",
    "    .head(2)\n",
    ")"
   ]
  },
  {
   "cell_type": "markdown",
   "metadata": {},
   "source": [
    "## number of review"
   ]
  },
  {
   "cell_type": "code",
   "execution_count": null,
   "metadata": {},
   "outputs": [],
   "source": [
    "(\n",
    "    df_combinaison_filtered_perfo\n",
    "\n",
    "    ## from 29_602 to 22_862\n",
    "    # .filter((d.NB_REVIEW_LOG_A > 5) & (d.NB_REVIEW_LOG_B > 5))\n",
    "\n",
    "    ## from 29_602 to 24_551\n",
    "    .filter(d.NB_REVIEW_LOG_A + d.NB_REVIEW_LOG_B >= 13)\n",
    ")"
   ]
  },
  {
   "cell_type": "markdown",
   "metadata": {},
   "source": [
    "## number of runways"
   ]
  },
  {
   "cell_type": "code",
   "execution_count": null,
   "metadata": {},
   "outputs": [],
   "source": [
    "(\n",
    "    ## from 29_602 to 27_186\n",
    "    df_combinaison_filtered_perfo\n",
    "    .filter(~((d.NB_RUNWAYS_A == 1) & (d.NB_RUNWAYS_B == 1)))\n",
    "    .head(2)\n",
    ")"
   ]
  },
  {
   "cell_type": "markdown",
   "metadata": {},
   "source": [
    "## ratings"
   ]
  },
  {
   "cell_type": "code",
   "execution_count": null,
   "metadata": {},
   "outputs": [],
   "source": [
    "(\n",
    "    df_combinaison_filtered_perfo\n",
    "    \n",
    "    ## from 29_602 to 28_891\n",
    "    # .filter(d.ROUTE_RATING <= 9)\n",
    "\n",
    "    ## from 29_602 to 28_919\n",
    "    # .filter((d.RATING_A > 3) & (d.RATING_B > 3))\n",
    "\n",
    "    # .filter(~((d.RATING_A < 3.5) & (d.RATING_B < 3.5))) ## 14\n",
    "\n",
    "    .head(2)\n",
    "\n",
    ")"
   ]
  },
  {
   "cell_type": "markdown",
   "metadata": {},
   "source": [
    "## is island"
   ]
  },
  {
   "cell_type": "code",
   "execution_count": null,
   "metadata": {},
   "outputs": [],
   "source": [
    "(\n",
    "    ## from 29_602 to 29_537\n",
    "\n",
    "    df_combinaison_filtered_perfo   \n",
    "    .filter(~((d.IS_ISLAND_A == 1) & (d.IS_ISLAND_B == 1)) )\n",
    "\n",
    ")"
   ]
  },
  {
   "cell_type": "markdown",
   "metadata": {},
   "source": [
    "## elevation"
   ]
  },
  {
   "cell_type": "code",
   "execution_count": null,
   "metadata": {},
   "outputs": [],
   "source": [
    "(\n",
    "    ## from 29_602 to 28_609\n",
    "\n",
    "    df_combinaison_filtered_perfo   \n",
    "    .filter(~((d.ELEV_FT_A >= 1500) & (d.ELEV_FT_B >= 1500)))\n",
    "    .filter(~((d.ELEV_FT_A >= 500) & (d.ELEV_FT_B >= 2500)))\n",
    "    .filter(~((d.ELEV_FT_A >= 2500) & (d.ELEV_FT_B >= 500)))\n",
    "\n",
    "    .filter(~((d.ELEV_FT_A < 0) & (d.ELEV_FT_B >= 1000)))\n",
    "    .filter(~((d.ELEV_FT_B < 0) & (d.ELEV_FT_A >= 1000)))\n",
    "\n",
    "    .head(2)\n",
    "\n",
    "\n",
    ")"
   ]
  },
  {
   "cell_type": "markdown",
   "metadata": {},
   "source": [
    "## time zone"
   ]
  },
  {
   "cell_type": "code",
   "execution_count": null,
   "metadata": {},
   "outputs": [],
   "source": [
    "(\n",
    "    ## from 29_602 to \n",
    "\n",
    "    df_combinaison_filtered_perfo   \n",
    "\n",
    "    .filter(d.TIME_ZONE_2016_A > 6)\n",
    "\n",
    "\n",
    "\n",
    "\n",
    ")"
   ]
  },
  {
   "cell_type": "markdown",
   "metadata": {},
   "source": [
    "## combining filter"
   ]
  },
  {
   "cell_type": "code",
   "execution_count": null,
   "metadata": {},
   "outputs": [],
   "source": [
    "(\n",
    "    df_combinaison_filtered_perfo\n",
    "\n",
    "    ## from 29_602 to 15_034\n",
    "\n",
    "    .filter(~((d.NB_RUNWAYS_A == 1) & (d.NB_RUNWAYS_B == 1)))\n",
    "\n",
    "    .filter((d.NB_REVIEW_LOG_A > 5) & (d.NB_REVIEW_LOG_B > 5))\n",
    "    .filter(d.NB_REVIEW_LOG_A + d.NB_REVIEW_LOG_B >= 13)\n",
    "\n",
    "    .filter(d.APT_CITY_DRIVE_TIME_H_A <= 1.5)\n",
    "    .filter(d.APT_CITY_DRIVE_TIME_H_B <= 1.5)\n",
    "    .filter(d.ROUTE_DRIVE_TIME_H >= 0.4)\n",
    "\n",
    "    .filter(d.ROUTE_DRIVE_DIST_KM <= 100)\n",
    "    .filter(d.ROUTE_DRIVE_DIST_KM >= 20)\n",
    "\n",
    "    .filter(d.ROUTE_RATING <= 9)\n",
    "    .filter((d.RATING_A > 3) & (d.RATING_B > 3))\n",
    "    .filter(~((d.RATING_A < 3.5) & (d.RATING_B < 3.5)))\n",
    "\n",
    "    .filter(~((d.IS_ISLAND_A == 1) & (d.IS_ISLAND_B == 1)))\n",
    "\n",
    "    ## not sure\n",
    "    .filter(~((d.ELEV_FT_A >= 1500) & (d.ELEV_FT_B >= 1500)))\n",
    "    .filter(~((d.ELEV_FT_A >= 500) & (d.ELEV_FT_B >= 2500)))\n",
    "    .filter(~((d.ELEV_FT_A >= 2500) & (d.ELEV_FT_B >= 500)))\n",
    "    .filter(~((d.ELEV_FT_A < 0) & (d.ELEV_FT_B >= 1000)))\n",
    "    .filter(~((d.ELEV_FT_B < 0) & (d.ELEV_FT_A >= 1000)))\n",
    "\n",
    "# .filter(d.HAS_EXISTED) #313\n",
    "\n",
    "\n",
    ")"
   ]
  }
 ],
 "metadata": {
  "kernelspec": {
   "display_name": "optim",
   "language": "python",
   "name": "python3"
  },
  "language_info": {
   "codemirror_mode": {
    "name": "ipython",
    "version": 3
   },
   "file_extension": ".py",
   "mimetype": "text/x-python",
   "name": "python",
   "nbconvert_exporter": "python",
   "pygments_lexer": "ipython3",
   "version": "3.10.13"
  }
 },
 "nbformat": 4,
 "nbformat_minor": 2
}
