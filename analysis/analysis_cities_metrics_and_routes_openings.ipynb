{
 "cells": [
  {
   "cell_type": "markdown",
   "metadata": {},
   "source": [
    "<div class=\"alert alert-block alert-info\"> A notebook designed to be completed for analyzing the relationship between route openings and city metrics, including sample code and pre-processed, formatted data. I want to examine whether there are differences between newly opened routes and existing routes by comparing them against cities metrics. (on the international market) </div>"
   ]
  },
  {
   "cell_type": "markdown",
   "metadata": {},
   "source": [
    "<div class=\"alert alert-block alert-warning\"><b>Warning :</b> I'm sure every graph can be plot with a loop but it's a good start. </div>"
   ]
  },
  {
   "cell_type": "markdown",
   "metadata": {},
   "source": [
    "# Import"
   ]
  },
  {
   "cell_type": "markdown",
   "metadata": {},
   "source": [
    "## lib"
   ]
  },
  {
   "cell_type": "code",
   "execution_count": null,
   "metadata": {},
   "outputs": [],
   "source": [
    "%load_ext autoreload\n",
    "%autoreload 2"
   ]
  },
  {
   "cell_type": "code",
   "execution_count": null,
   "metadata": {},
   "outputs": [],
   "source": [
    "import numpy as np\n",
    "import scipy\n",
    "import polars as pl\n",
    "import pandas as pd\n",
    "from polars import col as d\n",
    "# import plotly\n",
    "# import plotly.express as px\n",
    "import glob\n",
    "import os\n",
    "# import plotly.graph_objects as go\n",
    "# from plotly.subplots import make_subplots\n",
    "# import seaborn as sns\n",
    "# import matplotlib.pyplot as plt\n",
    "# import math\n",
    "\n",
    "# from scipy.stats import pointbiserialr\n",
    "# from scipy.stats import mannwhitneyu\n",
    "# from scipy.stats import ks_2samp\n",
    "# import statsmodels.api as sm\n",
    "# from sklearn.feature_selection import mutual_info_classif\n",
    "# from scipy.stats import chi2_contingency\n",
    "# from scipy.stats import fisher_exact\n",
    "# from sklearn.metrics import roc_auc_score, roc_curve\n",
    "# from sklearn.preprocessing import StandardScaler\n",
    "# from sklearn.decomposition import PCA"
   ]
  },
  {
   "cell_type": "markdown",
   "metadata": {},
   "source": [
    "## plot"
   ]
  },
  {
   "cell_type": "code",
   "execution_count": null,
   "metadata": {},
   "outputs": [],
   "source": [
    "from utils_plot import facet_distribution_plot\n",
    "from utils_plot import plot_heatmap_by_group"
   ]
  },
  {
   "cell_type": "markdown",
   "metadata": {},
   "source": [
    "## csv"
   ]
  },
  {
   "cell_type": "code",
   "execution_count": null,
   "metadata": {},
   "outputs": [],
   "source": [
    "folder_path = '/home/sara/Desktop/ATSLab/data/' "
   ]
  },
  {
   "cell_type": "code",
   "execution_count": null,
   "metadata": {},
   "outputs": [],
   "source": [
    "df_cities_analysis = pl.read_parquet(folder_path+\"df_cities_metrics_preprocessed_for_stat.parquet\")"
   ]
  },
  {
   "cell_type": "markdown",
   "metadata": {},
   "source": [
    "## some variables"
   ]
  },
  {
   "cell_type": "code",
   "execution_count": null,
   "metadata": {},
   "outputs": [],
   "source": [
    "CAT_COLUMNS = ['IS_SPECIAL_A', 'IS_CAPITAL_A', 'IS_GLOBAL_HUB_A', 'IS_DOMESTIC_HUB_A', 'IS_SPECIAL_B', 'IS_CAPITAL_B', 'IS_GLOBAL_HUB_B', 'IS_DOMESTIC_HUB_B'] ## drop YEAR\n",
    "NUM_COLUMNS = ['POPU_A', 'POPU_B', 'EVO_POPU_A', 'EVO_POPU_B', 'INC_LC_A', 'INC_LC_B', 'EVO_INC_LC_A', 'EVO_INC_LC_B', 'INC_USD2019_A', 'INC_USD2019_B', 'EVO_INC_USD2019_A', 'EVO_INC_USD2019_B', 'POPU_LOG_A', 'POPU_LOG_B', 'INC_LC_LOG_A', 'INC_LC_LOG_B']\n",
    "NUM_COLUMNS_SHORT = ['EVO_POPU_A','EVO_POPU_B','EVO_INC_LC_A','EVO_INC_LC_B','INC_USD2019_A','INC_USD2019_B','EVO_INC_USD2019_A','EVO_INC_USD2019_B','POPU_LOG_A','POPU_LOG_B','INC_LC_LOG_A','INC_LC_LOG_B']"
   ]
  },
  {
   "cell_type": "code",
   "execution_count": null,
   "metadata": {},
   "outputs": [],
   "source": [
    "## to change\n",
    "dico_is_opening = {\n",
    "    False: \"#E57373\",\n",
    "    True: \"#81C784\"\n",
    "}\n",
    "\n",
    "dico_tag_duration_opening = {\n",
    "    'SHORT_OPENING': \"#FFA500\",\n",
    "    'LONG_OPENING': \"#1f77b4\",\n",
    "    'NO_OPENING': \"#A9A9A9\",\n",
    "\n",
    "    # \"SHORT_OPENING\": \"#E69F00\", \n",
    "    # \"LONG_OPENING\": \"#0072B2\" \n",
    "}\n",
    "\n",
    "dico_new_opening = {\n",
    "    \"OLD_2010\": \"#A9A9A9\",\n",
    "    \"HAS_OPENED\": \"#CC79A7\", \n",
    "    \"NEW_OPENING\": \"#56B4E9\" \n",
    "}"
   ]
  },
  {
   "cell_type": "code",
   "execution_count": null,
   "metadata": {},
   "outputs": [],
   "source": [
    "order_tag_duration_opening = ['NO_OPENING', 'SHORT_OPENING', 'LONG_OPENING']\n",
    "order_new_opening = ['OLD_2010', 'NEW_OPENING', 'HAS_OPENED']"
   ]
  },
  {
   "cell_type": "markdown",
   "metadata": {},
   "source": [
    "# Data volume for each group"
   ]
  },
  {
   "cell_type": "markdown",
   "metadata": {},
   "source": [
    "## global"
   ]
  },
  {
   "cell_type": "code",
   "execution_count": null,
   "metadata": {},
   "outputs": [],
   "source": [
    "(\n",
    "    df_cities_analysis\n",
    "    .group_by(['IS_OPENING'])\n",
    "    .agg(pl.len().alias('COUNT'))\n",
    ")"
   ]
  },
  {
   "cell_type": "code",
   "execution_count": null,
   "metadata": {},
   "outputs": [],
   "source": [
    "(\n",
    "    df_cities_analysis\n",
    "    .group_by(['TAG_DURATION_OPENING'])\n",
    "    .agg(pl.len().alias('COUNT'))\n",
    ")"
   ]
  },
  {
   "cell_type": "code",
   "execution_count": null,
   "metadata": {},
   "outputs": [],
   "source": [
    "(\n",
    "    df_cities_analysis\n",
    "    .group_by(['TAG_NEW_OPENING'])\n",
    "    .agg(pl.len().alias('COUNT'))\n",
    ")"
   ]
  },
  {
   "cell_type": "markdown",
   "metadata": {},
   "source": [
    "## 2010 base year"
   ]
  },
  {
   "cell_type": "code",
   "execution_count": null,
   "metadata": {},
   "outputs": [],
   "source": [
    "(\n",
    "    df_cities_analysis\n",
    "    .filter((d.YEAR == 2010) | (d.IS_OPENING))\n",
    "    .group_by(['IS_OPENING'])\n",
    "    .agg(pl.len().alias('COUNT'))\n",
    ")"
   ]
  },
  {
   "cell_type": "code",
   "execution_count": null,
   "metadata": {},
   "outputs": [],
   "source": [
    "(\n",
    "    df_cities_analysis\n",
    "    .filter((d.YEAR == 2010) | (d.IS_OPENING))\n",
    "    .group_by(['TAG_DURATION_OPENING'])\n",
    "    .agg(pl.len().alias('COUNT'))\n",
    ")"
   ]
  },
  {
   "cell_type": "code",
   "execution_count": null,
   "metadata": {},
   "outputs": [],
   "source": [
    "df_cities_analysis_filtered = df_cities_analysis.filter((d.YEAR == 2010) | (d.IS_OPENING)).to_pandas()"
   ]
  },
  {
   "cell_type": "code",
   "execution_count": null,
   "metadata": {},
   "outputs": [],
   "source": [
    "df_cities_analysis_pd = df_cities_analysis.to_pandas()"
   ]
  },
  {
   "cell_type": "markdown",
   "metadata": {},
   "source": [
    "# Histogram"
   ]
  },
  {
   "cell_type": "markdown",
   "metadata": {},
   "source": [
    "## Population"
   ]
  },
  {
   "cell_type": "markdown",
   "metadata": {},
   "source": [
    "### global"
   ]
  },
  {
   "cell_type": "code",
   "execution_count": null,
   "metadata": {},
   "outputs": [],
   "source": [
    "(\n",
    "    facet_distribution_plot(\n",
    "             df=df_cities_analysis_pd,\n",
    "             category=\"IS_OPENING\",\n",
    "             value_vars=[\"POPU_A\", \"POPU_B\"],\n",
    "             dico_color=dico_is_opening,\n",
    "             nbins = 30\n",
    "            )\n",
    "\n",
    "    .update_xaxes(dtick = 1_000_000)\n",
    "       \n",
    ")"
   ]
  },
  {
   "cell_type": "code",
   "execution_count": null,
   "metadata": {},
   "outputs": [],
   "source": [
    "(\n",
    "    facet_distribution_plot(\n",
    "             df=df_cities_analysis_pd,\n",
    "             category=\"TAG_DURATION_OPENING\",\n",
    "             value_vars=[\"POPU_A\", \"POPU_B\"],\n",
    "             dico_color=dico_tag_duration_opening,\n",
    "             nbins = 20\n",
    "            )\n",
    "\n",
    "    .update_xaxes(dtick = 2_000_000)\n",
    "            \n",
    ")"
   ]
  },
  {
   "cell_type": "code",
   "execution_count": null,
   "metadata": {},
   "outputs": [],
   "source": [
    "## change color\n",
    "(\n",
    "    facet_distribution_plot(\n",
    "             df=df_cities_analysis_pd,\n",
    "             category=\"TAG_NEW_OPENING\",\n",
    "             value_vars=[\"POPU_A\", \"POPU_B\"],\n",
    "             dico_color=dico_new_opening,\n",
    "             nbins = 20\n",
    "            )\n",
    "\n",
    "    .update_xaxes(dtick = 2_000_000)\n",
    "            \n",
    ")"
   ]
  },
  {
   "cell_type": "markdown",
   "metadata": {},
   "source": [
    "### 2010 base year"
   ]
  },
  {
   "cell_type": "code",
   "execution_count": null,
   "metadata": {},
   "outputs": [],
   "source": [
    "(\n",
    "    facet_distribution_plot(\n",
    "             df=df_cities_analysis_filtered,\n",
    "             category=\"IS_OPENING\",\n",
    "             value_vars=[\"POPU_A\", \"POPU_B\"],\n",
    "             dico_color=dico_is_opening,\n",
    "             nbins = 30\n",
    "            )\n",
    "\n",
    "    .update_xaxes(dtick = 1_000_000)\n",
    "            \n",
    ")"
   ]
  },
  {
   "cell_type": "code",
   "execution_count": null,
   "metadata": {},
   "outputs": [],
   "source": [
    "(\n",
    "    facet_distribution_plot(\n",
    "             df=df_cities_analysis_filtered,\n",
    "             category=\"TAG_DURATION_OPENING\",\n",
    "             value_vars=[\"POPU_A\", \"POPU_B\"],\n",
    "             dico_color=dico_tag_duration_opening,\n",
    "             nbins = 20\n",
    "            )\n",
    "\n",
    "    .update_xaxes(dtick = 2_000_000)\n",
    "            \n",
    ")"
   ]
  },
  {
   "cell_type": "markdown",
   "metadata": {},
   "source": [
    "## Log population"
   ]
  },
  {
   "cell_type": "markdown",
   "metadata": {},
   "source": [
    "to complete"
   ]
  },
  {
   "cell_type": "markdown",
   "metadata": {},
   "source": [
    "# Heatmap"
   ]
  },
  {
   "cell_type": "markdown",
   "metadata": {},
   "source": [
    "## Population"
   ]
  },
  {
   "cell_type": "markdown",
   "metadata": {},
   "source": [
    "### global"
   ]
  },
  {
   "cell_type": "code",
   "execution_count": null,
   "metadata": {},
   "outputs": [],
   "source": [
    "bin_size = 2_000_000\n",
    "\n",
    "df_binned = (\n",
    "    df_cities_analysis\n",
    "    .with_columns(POPU_A = d.POPU_A // bin_size * bin_size)\n",
    "    .with_columns(POPU_B = d.POPU_B // bin_size * bin_size)\n",
    ")"
   ]
  },
  {
   "cell_type": "code",
   "execution_count": null,
   "metadata": {},
   "outputs": [],
   "source": [
    "(\n",
    "    plot_heatmap_by_group(\n",
    "             df=df_binned,\n",
    "             group_col=\"IS_OPENING\",\n",
    "             x_col=\"POPU_A\",\n",
    "             y_col=\"POPU_B\",\n",
    "            #  normalize=True,\n",
    " )\n",
    ")"
   ]
  },
  {
   "cell_type": "code",
   "execution_count": null,
   "metadata": {},
   "outputs": [],
   "source": [
    "(\n",
    "    plot_heatmap_by_group(\n",
    "             df=df_binned,\n",
    "             group_col=\"TAG_DURATION_OPENING\",\n",
    "             x_col=\"POPU_A\",\n",
    "             y_col=\"POPU_B\",\n",
    "             normalize=True,\n",
    " )\n",
    ")"
   ]
  },
  {
   "cell_type": "code",
   "execution_count": null,
   "metadata": {},
   "outputs": [],
   "source": [
    "(\n",
    "    plot_heatmap_by_group(\n",
    "             df=df_binned,\n",
    "             group_col=\"TAG_NEW_OPENING\",\n",
    "             x_col=\"POPU_A\",\n",
    "             y_col=\"POPU_B\",\n",
    "            #  normalize=True,\n",
    "    )\n",
    ")"
   ]
  },
  {
   "cell_type": "markdown",
   "metadata": {},
   "source": [
    "### 2010 base year"
   ]
  },
  {
   "cell_type": "code",
   "execution_count": null,
   "metadata": {},
   "outputs": [],
   "source": [
    "bin_size = 2_000_000\n",
    "\n",
    "df_binned = (\n",
    "    pl.from_pandas(df_cities_analysis_filtered)\n",
    "    .with_columns(POPU_A = d.POPU_A // bin_size * bin_size)\n",
    "    .with_columns(POPU_B = d.POPU_B // bin_size * bin_size)\n",
    ")"
   ]
  },
  {
   "cell_type": "code",
   "execution_count": null,
   "metadata": {},
   "outputs": [],
   "source": [
    "(\n",
    "    plot_heatmap_by_group(\n",
    "             df=df_binned,\n",
    "             group_col=\"IS_OPENING\",\n",
    "             x_col=\"POPU_A\",\n",
    "             y_col=\"POPU_B\",\n",
    "            #  normalize=True,\n",
    " )\n",
    ")"
   ]
  },
  {
   "cell_type": "code",
   "execution_count": null,
   "metadata": {},
   "outputs": [],
   "source": [
    "(\n",
    "    plot_heatmap_by_group(\n",
    "             df=df_binned,\n",
    "             group_col=\"TAG_DURATION_OPENING\",\n",
    "             x_col=\"POPU_A\",\n",
    "             y_col=\"POPU_B\",\n",
    "            #  normalize=True,\n",
    " )\n",
    ")"
   ]
  },
  {
   "cell_type": "markdown",
   "metadata": {},
   "source": [
    "## Log population"
   ]
  },
  {
   "cell_type": "markdown",
   "metadata": {},
   "source": [
    "to complete"
   ]
  },
  {
   "cell_type": "markdown",
   "metadata": {},
   "source": [
    "## Is domestic hub"
   ]
  },
  {
   "cell_type": "markdown",
   "metadata": {},
   "source": [
    "### global"
   ]
  },
  {
   "cell_type": "code",
   "execution_count": null,
   "metadata": {},
   "outputs": [],
   "source": [
    "(\n",
    "    plot_heatmap_by_group(\n",
    "             df=pl.from_pandas(df_cities_analysis_pd),\n",
    "             group_col=\"IS_OPENING\",\n",
    "             x_col=\"IS_DOMESTIC_HUB_A\",\n",
    "             y_col=\"IS_DOMESTIC_HUB_B\",\n",
    "            #  normalize=True,\n",
    " )\n",
    ")"
   ]
  },
  {
   "cell_type": "code",
   "execution_count": null,
   "metadata": {},
   "outputs": [],
   "source": [
    "(\n",
    "    plot_heatmap_by_group(\n",
    "             df=pl.from_pandas(df_cities_analysis_pd),\n",
    "             group_col=\"TAG_DURATION_OPENING\",\n",
    "             x_col=\"IS_DOMESTIC_HUB_A\",\n",
    "             y_col=\"IS_DOMESTIC_HUB_B\",\n",
    "            #  normalize=True,\n",
    " )\n",
    ")"
   ]
  },
  {
   "cell_type": "code",
   "execution_count": null,
   "metadata": {},
   "outputs": [],
   "source": [
    "(\n",
    "    plot_heatmap_by_group(\n",
    "             df=pl.from_pandas(df_cities_analysis_pd),\n",
    "             group_col=\"TAG_NEW_OPENING\",\n",
    "             x_col=\"IS_DOMESTIC_HUB_A\",\n",
    "             y_col=\"IS_DOMESTIC_HUB_B\",\n",
    "            #  normalize=True,\n",
    " )\n",
    ")"
   ]
  },
  {
   "cell_type": "markdown",
   "metadata": {},
   "source": [
    "### 2010 base year"
   ]
  },
  {
   "cell_type": "code",
   "execution_count": null,
   "metadata": {},
   "outputs": [],
   "source": [
    "(\n",
    "    plot_heatmap_by_group(\n",
    "             df=pl.from_pandas(df_cities_analysis_filtered),\n",
    "             group_col=\"IS_OPENING\",\n",
    "             x_col=\"IS_DOMESTIC_HUB_A\",\n",
    "             y_col=\"IS_DOMESTIC_HUB_B\",\n",
    "            #  normalize=True,\n",
    " )\n",
    ")"
   ]
  },
  {
   "cell_type": "code",
   "execution_count": null,
   "metadata": {},
   "outputs": [],
   "source": [
    "(\n",
    "    plot_heatmap_by_group(\n",
    "             df=pl.from_pandas(df_cities_analysis_filtered),\n",
    "             group_col=\"TAG_DURATION_OPENING\",\n",
    "             x_col=\"IS_DOMESTIC_HUB_A\",\n",
    "             y_col=\"IS_DOMESTIC_HUB_B\",\n",
    "            #  normalize=True,\n",
    " )\n",
    ")"
   ]
  },
  {
   "cell_type": "markdown",
   "metadata": {},
   "source": [
    "# Ideas"
   ]
  },
  {
   "cell_type": "markdown",
   "metadata": {},
   "source": [
    "- Why not a PCA, but when I tried it wasn't very conclusive with these data\n",
    "- Statistical test, biserial point, CDF etc..."
   ]
  },
  {
   "cell_type": "markdown",
   "metadata": {},
   "source": []
  }
 ],
 "metadata": {
  "kernelspec": {
   "display_name": "optim",
   "language": "python",
   "name": "python3"
  },
  "language_info": {
   "codemirror_mode": {
    "name": "ipython",
    "version": 3
   },
   "file_extension": ".py",
   "mimetype": "text/x-python",
   "name": "python",
   "nbconvert_exporter": "python",
   "pygments_lexer": "ipython3",
   "version": "3.10.13"
  }
 },
 "nbformat": 4,
 "nbformat_minor": 2
}
