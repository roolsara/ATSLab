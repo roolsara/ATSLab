{
 "cells": [
  {
   "cell_type": "markdown",
   "metadata": {},
   "source": [
    "<div class=\"alert alert-block alert-info\">Notebook with an initial look at how the routes were opened. </div>"
   ]
  },
  {
   "cell_type": "markdown",
   "metadata": {},
   "source": [
    "# Import"
   ]
  },
  {
   "cell_type": "markdown",
   "metadata": {},
   "source": [
    "## lib"
   ]
  },
  {
   "cell_type": "code",
   "execution_count": null,
   "metadata": {},
   "outputs": [],
   "source": [
    "import numpy as np\n",
    "import scipy\n",
    "import polars as pl\n",
    "import pandas as pd\n",
    "from polars import col as d\n",
    "import plotly\n",
    "import plotly.express as px\n",
    "import glob\n",
    "import os\n",
    "import plotly.graph_objects as go\n",
    "import seaborn as sns\n",
    "import matplotlib.pyplot as plt\n",
    "import math"
   ]
  },
  {
   "cell_type": "markdown",
   "metadata": {},
   "source": [
    "## csv"
   ]
  },
  {
   "cell_type": "code",
   "execution_count": null,
   "metadata": {},
   "outputs": [],
   "source": [
    "folder_path = '/home/sara/Desktop/ATSLab/data/' "
   ]
  },
  {
   "cell_type": "code",
   "execution_count": null,
   "metadata": {},
   "outputs": [],
   "source": [
    "df_scheduled = pl.read_parquet(folder_path+\"scheduled_dataset_transatlantic_enhanced.parquet\") ## change name\n",
    "df_scheduled_wo_covid = pl.read_parquet(folder_path+\"scheduled_dataset_wo_covid_transatlantic_enhanced.parquet\") ## change name"
   ]
  },
  {
   "cell_type": "code",
   "execution_count": null,
   "metadata": {},
   "outputs": [],
   "source": [
    "df_airline_mapping = pl.read_csv(folder_path+'df_airline_mapping.csv')\n",
    "df_airports_lookup = pl.read_csv(folder_path+'df_airports_lookup_modif.csv')"
   ]
  },
  {
   "cell_type": "markdown",
   "metadata": {},
   "source": [
    "# how many passenger by mkt type"
   ]
  },
  {
   "cell_type": "code",
   "execution_count": null,
   "metadata": {},
   "outputs": [],
   "source": [
    "df_metrics_by_year = (\n",
    "    df_scheduled\n",
    "    .group_by(['YEAR', 'MKT_TYPE'])\n",
    "    .agg(d.SEATS.sum(), d.FLT.sum())\n",
    "    .sort('YEAR', 'MKT_TYPE')\n",
    "    .to_pandas()\n",
    ")"
   ]
  },
  {
   "cell_type": "code",
   "execution_count": null,
   "metadata": {},
   "outputs": [],
   "source": [
    "(\n",
    "    px.line(df_metrics_by_year, \n",
    "    x = 'YEAR', y = 'SEATS', \n",
    "    markers = True, \n",
    "    facet_col = 'MKT_TYPE', facet_col_spacing=0.05\n",
    "    )\n",
    "    .update_yaxes(matches=None, showticklabels=True)\n",
    ")"
   ]
  },
  {
   "cell_type": "markdown",
   "metadata": {},
   "source": [
    "# how many directional/undirectionnal routes ?"
   ]
  },
  {
   "cell_type": "code",
   "execution_count": null,
   "metadata": {},
   "outputs": [],
   "source": [
    "df_nb_rte = (\n",
    "    df_scheduled\n",
    "    .with_columns(DIR_APT_PAIR_CODE = d.APT_CODE_A + pl.lit('-') + d.APT_CODE_B)\n",
    "    .with_columns(UNDIR_APT_PAIR_CODE = pl.when(d.APT_CODE_A < d.APT_CODE_B)\n",
    "                                          .then(d.APT_CODE_A + pl.lit('-') + d.APT_CODE_B)\n",
    "                                          .otherwise(d.APT_CODE_B + pl.lit('-') + d.APT_CODE_A)\n",
    "    )\n",
    "\n",
    "    .group_by('YEAR', 'MKT_TYPE')\n",
    "    .agg(d.DIR_APT_PAIR_CODE.unique().count().alias('NB_DIR_APT_PAIR_CODE'), d.UNDIR_APT_PAIR_CODE.unique().count().alias('NB_UNDIR_APT_PAIR_CODE'))\n",
    "    .sort('YEAR', 'MKT_TYPE')\n",
    "    .to_pandas()\n",
    "\n",
    ")"
   ]
  },
  {
   "cell_type": "code",
   "execution_count": null,
   "metadata": {},
   "outputs": [],
   "source": [
    "(\n",
    "    px.line(df_nb_rte,  \n",
    "    x = 'YEAR', y ='NB_DIR_APT_PAIR_CODE',\n",
    "    facet_col = 'MKT_TYPE',\n",
    "    markers = True,\n",
    "    facet_col_spacing=0.03)\n",
    "    .update_yaxes(matches=None, showticklabels=True)\n",
    "    .update_xaxes(dtick = 1, range = [2000,2023], autotickangles = [45,45,45])\n",
    ")"
   ]
  },
  {
   "cell_type": "code",
   "execution_count": null,
   "metadata": {},
   "outputs": [],
   "source": [
    "# px.bar(df_nb_rte,  x = 'YEAR', y ='NB_UNDIR_APT_PAIR_CODE', facet_col = 'MKT_TYPE', orientation='v', facet_col_spacing=0.05).update_yaxes(matches=None, showticklabels=True)\n",
    "px.line(df_nb_rte,  x = 'YEAR', y ='NB_UNDIR_APT_PAIR_CODE', facet_col = 'MKT_TYPE', markers = True, facet_col_spacing=0.03).update_yaxes(matches=None, showticklabels=True)"
   ]
  },
  {
   "cell_type": "markdown",
   "metadata": {},
   "source": [
    "## directionnal view for the international market"
   ]
  },
  {
   "cell_type": "code",
   "execution_count": null,
   "metadata": {},
   "outputs": [],
   "source": [
    "df_zoom_direction_inter = (\n",
    "    df_scheduled\n",
    "    .with_columns(DIR_APT_PAIR_CODE = d.APT_CODE_A + pl.lit('-') + d.APT_CODE_B)\n",
    "\n",
    "    .with_columns(UNDIR_APT_PAIR_CODE = pl.when(d.APT_CODE_A < d.APT_CODE_B)\n",
    "                                          .then(d.APT_CODE_A + pl.lit('-') + d.APT_CODE_B)\n",
    "                                          .otherwise(d.APT_CODE_B + pl.lit('-') + d.APT_CODE_A)\n",
    "    )\n",
    "    \n",
    "    .filter(d.MKT_TYPE == 'INTER')\n",
    "\n",
    "    .group_by('YEAR', 'DIRECTION')\n",
    "    .agg(d.DIR_APT_PAIR_CODE.unique().count().alias('NB_APT_PAIR_CODE'))\n",
    "    .sort('YEAR', 'DIRECTION')\n",
    "    .to_pandas()\n",
    ")"
   ]
  },
  {
   "cell_type": "code",
   "execution_count": null,
   "metadata": {},
   "outputs": [],
   "source": [
    "(\n",
    "    px.line(df_zoom_direction_inter,\n",
    "    x = 'YEAR', y='NB_APT_PAIR_CODE',\n",
    "    color = 'DIRECTION',\n",
    "    markers = True\n",
    "    )\n",
    "    .update_xaxes(dtick = 1, range = [1999.5,2023.5])\n",
    ")"
   ]
  },
  {
   "cell_type": "code",
   "execution_count": null,
   "metadata": {},
   "outputs": [],
   "source": [
    "df_search_asymetry = (    \n",
    "    df_scheduled\n",
    "\n",
    "    .with_columns(DIR_APT_PAIR_CODE = d.APT_CODE_A + pl.lit('-') + d.APT_CODE_B)\n",
    "\n",
    "    .with_columns(UNDIR_APT_PAIR_CODE = pl.when(d.APT_CODE_A < d.APT_CODE_B)\n",
    "                                          .then(d.APT_CODE_A + pl.lit('-') + d.APT_CODE_B)\n",
    "                                          .otherwise(d.APT_CODE_B + pl.lit('-') + d.APT_CODE_A)\n",
    "    )\n",
    "    \n",
    "    .filter(d.MKT_TYPE == 'INTER')\n",
    "\n",
    "    .with_columns(COUNT = d.DIR_APT_PAIR_CODE.unique().count().over('YEAR', 'UNDIR_APT_PAIR_CODE'))\n",
    "\n",
    "    .with_columns(TAG = pl.when(d.COUNT == 2)\n",
    "                          .then(pl.lit('both direction'))\n",
    "                          .otherwise(d.DIRECTION)\n",
    "    )\n",
    "\n",
    "    .group_by('YEAR', 'TAG')\n",
    "    .agg(d.DIR_APT_PAIR_CODE.unique().count().alias('NB_DIR_APT_PAIR_CODE'))\n",
    "    .sort('YEAR', 'TAG')\n",
    "    .filter(d.TAG != 'both direction')\n",
    "    .rename({'TAG': 'DIRECTION'})\n",
    "    .to_pandas()\n",
    ")"
   ]
  },
  {
   "cell_type": "code",
   "execution_count": null,
   "metadata": {},
   "outputs": [],
   "source": [
    "(\n",
    "    px.line(\n",
    "        df_search_asymetry,\n",
    "        x='YEAR', y = 'NB_DIR_APT_PAIR_CODE',\n",
    "        color = 'DIRECTION',\n",
    "        markers = True\n",
    "    )\n",
    "    .update_xaxes(dtick = 1, range = [1999.5,2023.5])\n",
    "\n",
    ")"
   ]
  },
  {
   "cell_type": "markdown",
   "metadata": {},
   "source": [
    "# how many routes open/close/reopen/break, is it dynamic ?"
   ]
  },
  {
   "cell_type": "markdown",
   "metadata": {},
   "source": [
    "## global waterfall"
   ]
  },
  {
   "cell_type": "code",
   "execution_count": null,
   "metadata": {},
   "outputs": [],
   "source": [
    "df_waterfall = (    \n",
    "    df_scheduled\n",
    "    .with_columns(DIR_APT_PAIR_CODE = d.APT_CODE_A + pl.lit('-') + d.APT_CODE_B)\n",
    "    .group_by(['YEAR', 'MKT_TYPE'])\n",
    "    .agg(d.DIR_APT_PAIR_CODE.count().alias('NB_DIR_RTE'), d.NB_OPENING_RTE.sum(), d.NB_REOPENING_RTE.sum(), d.NB_ENDING_RTE.sum(), d.NB_PAUSE_RTE.sum())\n",
    "    .with_columns(NB_ENDING_RTE = -d.NB_ENDING_RTE, NB_PAUSE_RTE = -d.NB_PAUSE_RTE)\n",
    "    .sort('YEAR')\n",
    "    .unpivot(index=['YEAR', 'MKT_TYPE'])\n",
    "    .rename({'variable':'RTE_TYPE', 'value':'NB_RTE'})\n",
    "    .with_columns(ORDER = pl.when(d.RTE_TYPE == 'NB_DIR_RTE')\n",
    "                            .then(0)\n",
    "                            .when(d.RTE_TYPE == 'NB_ENDING_RTE')\n",
    "                            .then(1)\n",
    "                            .when(d.RTE_TYPE == 'NB_PAUSE_RTE')\n",
    "                            .then(2)\n",
    "                            .when(d.RTE_TYPE == 'NB_REOPENING_RTE')\n",
    "                            .then(3)\n",
    "                            .when(d.RTE_TYPE == 'NB_OPENING_RTE')\n",
    "                            .then(4)\n",
    "                )\n",
    "    .sort('YEAR', 'MKT_TYPE', 'ORDER')\n",
    "    .with_columns(YEAR = pl.when(d.RTE_TYPE.is_in(['NB_REOPENING_RTE', 'NB_OPENING_RTE']))\n",
    "                           .then(d.YEAR - 1)\n",
    "                           .otherwise(d.YEAR)\n",
    "    )\n",
    "    .with_columns(BASE = d.NB_RTE.cum_sum().shift(1).over('YEAR', 'MKT_TYPE'))\n",
    "    .with_columns(BASE = pl.when(d.RTE_TYPE == 'NB_DIR_RTE')\n",
    "                           .then(0)\n",
    "                           .otherwise(d.BASE)\n",
    "    )\n",
    "    .to_pandas()\n",
    "\n",
    "\n",
    ")"
   ]
  },
  {
   "cell_type": "code",
   "execution_count": null,
   "metadata": {},
   "outputs": [],
   "source": [
    "(\n",
    "    px.bar(\n",
    "        df_waterfall,\n",
    "        x = 'YEAR', y = 'NB_RTE',\n",
    "        base ='BASE',\n",
    "        color = 'RTE_TYPE',\n",
    "        facet_row = 'MKT_TYPE',\n",
    "        barmode='group',\n",
    "        height = 1500,\n",
    "         color_discrete_map = {\n",
    "                \"NB_OPENING_RTE\": \"green\",\n",
    "                \"NB_REOPENING_RTE\": \"dodgerblue\",\n",
    "                \"NB_ENDING_RTE\": \"red\",\n",
    "                \"NB_PAUSE_RTE\": \"orange\",\n",
    "                \"NB_DIR_RTE\": \"gray\"}\n",
    "    \n",
    "\n",
    "    )\n",
    "    .update_yaxes(matches=None, showticklabels=True)\n",
    "    .update_xaxes(showticklabels=True, dtick = 1, autotickangles = [45,45,45], range = [1999.1, 2023.1])\n",
    "    .update_layout(bargap=0)\n",
    "\n",
    ")"
   ]
  },
  {
   "cell_type": "markdown",
   "metadata": {},
   "source": [
    "## zoom on the 4 categories"
   ]
  },
  {
   "cell_type": "code",
   "execution_count": null,
   "metadata": {},
   "outputs": [],
   "source": [
    "df_plot_nb_rte_breakdown = (\n",
    "    df_scheduled\n",
    "    .with_columns(DIR_APT_PAIR_CODE = d.APT_CODE_A + pl.lit('-') + d.APT_CODE_B)\n",
    "    .group_by(['YEAR', 'MKT_TYPE'])\n",
    "    .agg(d.NB_OPENING_RTE.sum(), d.NB_REOPENING_RTE.sum(), d.NB_ENDING_RTE.sum(), d.NB_PAUSE_RTE.sum())\n",
    "    .with_columns(NB_ENDING_RTE = -d.NB_ENDING_RTE, NB_PAUSE_RTE = -d.NB_PAUSE_RTE)\n",
    "    .sort('YEAR', 'MKT_TYPE')\n",
    ")"
   ]
  },
  {
   "cell_type": "code",
   "execution_count": null,
   "metadata": {},
   "outputs": [],
   "source": [
    "(\n",
    "    px.bar(\n",
    "        df_plot_nb_rte_breakdown.to_pandas(), \n",
    "         x = 'YEAR', y = ['NB_OPENING_RTE', 'NB_REOPENING_RTE', 'NB_ENDING_RTE', 'NB_PAUSE_RTE'], \n",
    "         facet_col = 'MKT_TYPE',\n",
    "         height = 600,\n",
    "         facet_col_spacing=0.03,\n",
    "         color_discrete_map = {\n",
    "                \"NB_OPENING_RTE\": \"green\",\n",
    "                \"NB_REOPENING_RTE\": \"dodgerblue\",\n",
    "                \"NB_ENDING_RTE\": \"red\",\n",
    "                \"NB_PAUSE_RTE\": \"orange\"}\n",
    "\n",
    "         \n",
    "    )\n",
    "    .update_yaxes(matches=None, showticklabels=True)\n",
    ")"
   ]
  },
  {
   "cell_type": "markdown",
   "metadata": {},
   "source": [
    "# how many seats do the previous 4 categories represent"
   ]
  },
  {
   "cell_type": "code",
   "execution_count": null,
   "metadata": {},
   "outputs": [],
   "source": [
    "df_4_cat_seats = (\n",
    "    df_scheduled\n",
    "    .group_by(['YEAR', 'MKT_TYPE'])\n",
    "    .agg(d.SEATS.filter(d.IS_OPENING).sum().alias('SEATS_OPENING'), d.SEATS.filter(d.IS_REOPENING).sum().alias('SEATS_REOPENING'), d.SEATS.filter(d.IS_PAUSE).sum().alias('SEATS_PAUSE'), d.SEATS.filter(d.IS_END).sum().alias('SEATS_END'), d.SEATS.sum().alias('SEATS'))\n",
    "    .with_columns(SEATS_PAUSE = -d.SEATS_PAUSE, SEATS_END = -d.SEATS_END)\n",
    "    .sort('YEAR', 'MKT_TYPE')\n",
    "    .to_pandas()\n",
    ")"
   ]
  },
  {
   "cell_type": "code",
   "execution_count": null,
   "metadata": {},
   "outputs": [],
   "source": [
    "(\n",
    "    px.bar(\n",
    "        df_4_cat_seats, \n",
    "         x = 'YEAR', y = ['SEATS_OPENING', 'SEATS_REOPENING', 'SEATS_END', 'SEATS_PAUSE'], \n",
    "         facet_col = 'MKT_TYPE',\n",
    "         height = 600,\n",
    "         facet_col_spacing=0.03,\n",
    "         color_discrete_map = {\n",
    "                \"SEATS_OPENING\": \"green\",\n",
    "                \"SEATS_REOPENING\": \"dodgerblue\",\n",
    "                \"SEATS_END\": \"red\",\n",
    "                \"SEATS_PAUSE\": \"orange\"}\n",
    "\n",
    "         \n",
    "    )\n",
    "    .update_yaxes(matches=None, showticklabels=True)\n",
    ")"
   ]
  },
  {
   "cell_type": "markdown",
   "metadata": {},
   "source": [
    "# what's the duration of the first opening/launch"
   ]
  },
  {
   "cell_type": "code",
   "execution_count": null,
   "metadata": {},
   "outputs": [],
   "source": [
    "df_duration_first_opening = (\n",
    "    df_scheduled\n",
    "    .filter(d.IS_OPENING)\n",
    "    .with_columns(BIN_DURATION_FIRST_OPENING = pl.when(d.DURATION_FIRST_OPENING.is_in([1,2]))\n",
    "                                            .then(d.DURATION_FIRST_OPENING.cast(pl.Utf8))\n",
    "                                            .otherwise(pl.lit('3+'))\n",
    "\n",
    "    )\n",
    "\n",
    "    .group_by(['YEAR', 'MKT_TYPE', 'BIN_DURATION_FIRST_OPENING'])\n",
    "    .agg(d.NB_OPENING_RTE.sum())\n",
    "    .sort(['YEAR', 'MKT_TYPE', 'BIN_DURATION_FIRST_OPENING'], descending=[False, False, True])\n",
    "    .filter(d.YEAR < 2020)\n",
    "    .with_columns(PCT = d.NB_OPENING_RTE/d.NB_OPENING_RTE.sum().over(['YEAR', 'MKT_TYPE']))\n",
    "    .rename({'BIN_DURATION_FIRST_OPENING':'DURATION_FIRST_OPENING'})\n",
    "    .to_pandas()\n",
    ")"
   ]
  },
  {
   "cell_type": "code",
   "execution_count": null,
   "metadata": {},
   "outputs": [],
   "source": [
    "# (\n",
    "#     px.bar(df_duration_first_opening, \n",
    "#     x = 'YEAR', y = 'PCT', \n",
    "#     color = 'DURATION_FIRST_OPENING', \n",
    "#     facet_col='MKT_TYPE',\n",
    "#     height=400, \n",
    "#     color_discrete_sequence = px.colors.qualitative.D3\n",
    "#     )\n",
    "\n",
    "#     .update_yaxes(matches=None, showticklabels=True)\n",
    "\n",
    "#     .add_hline(\n",
    "#     y=0.582475,\n",
    "#     line_dash=\"dash\",\n",
    "#     line_color=\"black\",\n",
    "#     row=1,\n",
    "#     col=1\n",
    "# )\n",
    "\n",
    "#     .add_hline(\n",
    "#     y=0.531819,\n",
    "#     line_dash=\"dash\",\n",
    "#     line_color=\"black\",\n",
    "#     row=1,\n",
    "#     col=2\n",
    "# )\n",
    "\n",
    "#     .add_hline(\n",
    "#     y=0.57262,\n",
    "#     line_dash=\"dash\",\n",
    "#     line_color=\"black\",\n",
    "#     row=1,\n",
    "#     col=3\n",
    "# )\n",
    "\n",
    "# )"
   ]
  },
  {
   "cell_type": "code",
   "execution_count": null,
   "metadata": {},
   "outputs": [],
   "source": [
    "df_density_opening_duration = ( ## warning covid effect maybe \n",
    "    df_scheduled\n",
    "    .filter(d.IS_OPENING)\n",
    "    .with_columns(COUNT = 1)\n",
    "    .group_by(\"DURATION_FIRST_OPENING\", \"MKT_TYPE\")\n",
    "    .agg(d.COUNT.sum())\n",
    "    .with_columns(DISTRIBUTION = d.COUNT/d.COUNT.sum().over('MKT_TYPE'))\n",
    "    .sort(\"MKT_TYPE\", \"DURATION_FIRST_OPENING\")\n",
    "    .with_columns(CDF = d.DISTRIBUTION.cum_sum().over('MKT_TYPE'))\n",
    ")\n",
    "\n",
    "#####\n",
    "# comment/uncomment the y to have the distribution or the cdf\n",
    "#####\n",
    "\n",
    "(\n",
    "    px.bar(\n",
    "    df_density_opening_duration.to_pandas(),\n",
    "    x=\"DURATION_FIRST_OPENING\",\n",
    "    y=\"DISTRIBUTION\",\n",
    "    # y = 'CDF',\n",
    "    color=\"MKT_TYPE\",\n",
    "    facet_col = 'MKT_TYPE',\n",
    "    facet_col_spacing=0.025,\n",
    "    # markers=True,\n",
    ")\n",
    "    .update_xaxes(dtick = 1)\n",
    "    .update_yaxes(showticklabels=True)\n",
    ")\n"
   ]
  },
  {
   "cell_type": "code",
   "execution_count": null,
   "metadata": {},
   "outputs": [],
   "source": [
    "df_density_opening_duration = (\n",
    "    df_scheduled_wo_covid\n",
    "    # .filter(d.YEAR < 2018)\n",
    "    .filter(d.IS_OPENING)\n",
    "    .with_columns(COUNT = 1)\n",
    "    .group_by(\"DURATION_FIRST_OPENING\", \"MKT_TYPE\")\n",
    "    .agg(d.COUNT.sum())\n",
    "    .with_columns(DISTRIBUTION = d.COUNT/d.COUNT.sum().over('MKT_TYPE'))\n",
    "    .sort(\"MKT_TYPE\", \"DURATION_FIRST_OPENING\")\n",
    "    .with_columns(CDF = d.DISTRIBUTION.cum_sum().over('MKT_TYPE'))\n",
    "\n",
    ")\n",
    "\n",
    "#####\n",
    "# comment/uncomment the y to have the distribution or the cdf\n",
    "#####\n",
    "\n",
    "(\n",
    "    px.bar(\n",
    "    df_density_opening_duration.to_pandas(),\n",
    "    x=\"DURATION_FIRST_OPENING\",\n",
    "    y=\"DISTRIBUTION\",\n",
    "    # y = 'CDF',\n",
    "    color=\"MKT_TYPE\",\n",
    "    facet_col = 'MKT_TYPE',\n",
    "    facet_col_spacing=0.025,\n",
    "    # markers=True,\n",
    ")\n",
    "    .update_xaxes(dtick = 1)\n",
    "    .update_yaxes(showticklabels=True)\n",
    ")\n"
   ]
  },
  {
   "cell_type": "markdown",
   "metadata": {},
   "source": [
    "# how many breaks does a route take TOCHECK"
   ]
  },
  {
   "cell_type": "code",
   "execution_count": null,
   "metadata": {},
   "outputs": [],
   "source": [
    "df_density_pause = (\n",
    "    df_scheduled\n",
    "    .filter(d.IS_OPENING)\n",
    "    .with_columns(COUNT = 1)\n",
    "    .group_by(\"DURATION_FIRST_OPENING\", \"MKT_TYPE\")\n",
    "    .agg(d.COUNT.sum())\n",
    "    .with_columns(DISTRIBUTION = d.COUNT/d.COUNT.sum().over('MKT_TYPE'))\n",
    "    .sort(\"MKT_TYPE\", \"DURATION_FIRST_OPENING\")\n",
    "    .with_columns(CDF = d.DISTRIBUTION.cum_sum().over('MKT_TYPE'))\n",
    ")\n",
    "\n",
    "(\n",
    "    px.bar(\n",
    "    df_density_pause.to_pandas(),\n",
    "    x=\"DURATION_FIRST_OPENING\",\n",
    "    y=\"DISTRIBUTION\",\n",
    "    # y = 'CDF',\n",
    "    color=\"MKT_TYPE\",\n",
    "    facet_col = 'MKT_TYPE',\n",
    "    facet_col_spacing=0.025,\n",
    "    # markers=True,\n",
    ")\n",
    "    .update_xaxes(dtick = 1)\n",
    "    .update_yaxes(showticklabels=True)\n",
    ")\n"
   ]
  },
  {
   "cell_type": "code",
   "execution_count": null,
   "metadata": {},
   "outputs": [],
   "source": [
    "df_count_break = (\n",
    "    df_scheduled\n",
    "    .with_columns(DIR_APT_PAIR_CODE = d.APT_CODE_A + pl.lit('-') + d.APT_CODE_B)\n",
    "    .group_by(['TOTAL_BREAKS', 'MKT_TYPE'])\n",
    "    .agg(d.DIR_APT_PAIR_CODE.count().alias('NB_DIR_APT_RTE'))\n",
    "    .with_columns(PCT = d.NB_DIR_APT_RTE/d.NB_DIR_APT_RTE.sum().over('YEAR', 'MKT_TYPE'))\n",
    "    .sort('YEAR', 'MKT_TYPE', 'TOTAL_BREAKS')\n",
    "    .to_pandas()\n",
    ")"
   ]
  },
  {
   "cell_type": "code",
   "execution_count": null,
   "metadata": {},
   "outputs": [],
   "source": []
  },
  {
   "cell_type": "code",
   "execution_count": null,
   "metadata": {},
   "outputs": [],
   "source": [
    "(\n",
    "    px.bar(df_count_break,\n",
    "    x = 'YEAR', y = 'NB_DIR_APT_RTE',\n",
    "    color = 'TOTAL_BREAKS',\n",
    "    facet_col = 'MKT_TYPE',\n",
    "    facet_col_spacing=0.03,\n",
    "    orientation='v',\n",
    "    color_discrete_sequence = px.colors.qualitative.D3\n",
    "    )\n",
    "    .update_yaxes(matches=None, showticklabels=True)\n",
    "\n",
    ")"
   ]
  },
  {
   "cell_type": "code",
   "execution_count": null,
   "metadata": {},
   "outputs": [],
   "source": [
    "(\n",
    "    px.bar(df_count_break,\n",
    "    x = 'YEAR', y = 'PCT',\n",
    "    color = 'TOTAL_BREAKS',\n",
    "    facet_col = 'MKT_TYPE',\n",
    "    facet_col_spacing=0.03,\n",
    "    orientation='v',\n",
    "    color_discrete_sequence = px.colors.qualitative.D3\n",
    "\n",
    "    )\n",
    "    .update_yaxes(matches=None, showticklabels=True)\n",
    "\n",
    ")"
   ]
  },
  {
   "cell_type": "markdown",
   "metadata": {},
   "source": [
    "# how much traffic do new routes represent"
   ]
  },
  {
   "cell_type": "code",
   "execution_count": null,
   "metadata": {},
   "outputs": [],
   "source": [
    "df_opening_when_non_directionel = (\n",
    "    df_scheduled\n",
    "    .with_columns(OPENING_YEAR = pl.when(d.FIRST_EXISTING_YEAR == 2000)\n",
    "                                   .then(pl.lit('2000'))\n",
    "                                   .when(d.FIRST_EXISTING_YEAR.is_in([2001,2002,2003,2004,2005]))\n",
    "                                   .then(pl.lit('2001-2005'))\n",
    "                                   .when(d.FIRST_EXISTING_YEAR.is_in([2006, 2007,2008,2009,2010]))\n",
    "                                   .then(pl.lit('2006-2010'))\n",
    "                                   .when(d.FIRST_EXISTING_YEAR.is_in([2011,2012,2013,2014,2015]))\n",
    "                                   .then(pl.lit('2011-2015'))\n",
    "                                   .when(d.FIRST_EXISTING_YEAR.is_in([2016,2017,2018,2019]))\n",
    "                                   .then(pl.lit('2016-2019'))\n",
    "                                   .otherwise(pl.lit('2020-2023'))\n",
    "    )\n",
    "    .group_by(['YEAR', 'OPENING_YEAR', 'MKT_TYPE'])\n",
    "    .agg(d.FLT.sum(), d.SEATS.sum())\n",
    "    .with_columns(PCT = d.SEATS/d.SEATS.sum().over('YEAR', 'MKT_TYPE'))\n",
    "    \n",
    "    .sort(d.YEAR, d.MKT_TYPE, d.OPENING_YEAR)\n",
    "    .to_pandas()\n",
    ")"
   ]
  },
  {
   "cell_type": "code",
   "execution_count": null,
   "metadata": {},
   "outputs": [],
   "source": [
    "(\n",
    "    px.bar(df_opening_when_non_directionel, \n",
    "    x='YEAR', y ='SEATS', \n",
    "    color = 'OPENING_YEAR', \n",
    "    facet_col ='MKT_TYPE',\n",
    "    facet_col_spacing=0.03,\n",
    "    color_discrete_sequence = px.colors.qualitative.D3\n",
    "\n",
    "    )\n",
    "    .update_yaxes(matches=None, showticklabels=True)\n",
    "    .update_xaxes(dtick = 1, autotickangles = [45,45,45])\n",
    "\n",
    ")"
   ]
  },
  {
   "cell_type": "code",
   "execution_count": null,
   "metadata": {},
   "outputs": [],
   "source": [
    "(\n",
    "    px.bar(df_opening_when_non_directionel, \n",
    "    x='YEAR', y ='PCT', \n",
    "    color = 'OPENING_YEAR', \n",
    "    facet_col ='MKT_TYPE',\n",
    "    facet_col_spacing=0.03,\n",
    "    color_discrete_sequence = px.colors.qualitative.D3\n",
    "\n",
    "    )\n",
    "    .update_yaxes(matches=None, showticklabels=True)\n",
    "    .update_xaxes(dtick = 1, autotickangles = [45,45,45])\n",
    "\n",
    "\n",
    ")"
   ]
  },
  {
   "cell_type": "code",
   "execution_count": null,
   "metadata": {},
   "outputs": [],
   "source": [
    "df_opening_by_year = (\n",
    "    df_scheduled\n",
    "    .group_by(['YEAR', 'FIRST_EXISTING_YEAR', 'MKT_TYPE'])\n",
    "    .agg(d.FLT.sum(), d.SEATS.sum())\n",
    "    .with_columns(PCT_SEATS = d.SEATS/d.SEATS.sum().over('YEAR', 'MKT_TYPE'))\n",
    "    .with_columns(OPENING_YEAR = d.FIRST_EXISTING_YEAR.cast(pl.Utf8))\n",
    "    .sort(d.YEAR, d.MKT_TYPE, d.OPENING_YEAR)\n",
    "    .to_pandas()\n",
    ")"
   ]
  },
  {
   "cell_type": "code",
   "execution_count": null,
   "metadata": {},
   "outputs": [],
   "source": [
    "(\n",
    "    px.bar(df_opening_by_year, \n",
    "    x='YEAR', y ='PCT_SEATS', \n",
    "    color = 'OPENING_YEAR', \n",
    "    facet_col ='MKT_TYPE',\n",
    "    facet_col_spacing=0.03\n",
    "    )\n",
    "    .update_yaxes(matches=None, showticklabels=True)\n",
    "    .update_xaxes(dtick = 1, autotickangles = [45,45,45])\n",
    "\n",
    ")"
   ]
  },
  {
   "cell_type": "markdown",
   "metadata": {},
   "source": [
    "# range of the opening route"
   ]
  },
  {
   "cell_type": "code",
   "execution_count": null,
   "metadata": {},
   "outputs": [],
   "source": [
    "R = 6371.0\n",
    "\n",
    "lat1 = pl.col(\"LATITUDE_A\") * np.pi / 180\n",
    "lon1 = pl.col(\"LONGITUDE_A\") * np.pi / 180\n",
    "lat2 = pl.col(\"LATITUDE_B\") * np.pi / 180\n",
    "lon2 = pl.col(\"LONGITUDE_B\") * np.pi / 180\n",
    "\n",
    "dlat = lat2 - lat1\n",
    "dlon = lon2 - lon1\n",
    "\n",
    "a = (dlat / 2).sin()**2 + lat1.cos() * lat2.cos() * (dlon / 2).sin()**2\n",
    "c = 2 * a.sqrt().arcsin()\n"
   ]
  },
  {
   "cell_type": "code",
   "execution_count": null,
   "metadata": {},
   "outputs": [],
   "source": [
    "df_test_distance = (\n",
    "    df_filtered_enhanced\n",
    "    .join(df_airports_lookup_modif.select('APT_CODE', 'LATITUDE', 'LONGITUDE').rename({col: f\"{col}_A\" for col in ['APT_CODE', 'LATITUDE', 'LONGITUDE']}), how = 'left', on = 'APT_CODE_A')\n",
    "    .join(df_airports_lookup_modif.select('APT_CODE', 'LATITUDE', 'LONGITUDE').rename({col: f\"{col}_B\" for col in ['APT_CODE', 'LATITUDE', 'LONGITUDE']}), how = 'left', on = 'APT_CODE_B')\n",
    "    \n",
    "    .with_columns(DIST_GC_KM = R * c,\n",
    "                #   DIST_EUCL_KM = ((((d.LATITUDE_B - d.LATITUDE_A) * 111)**2) + (((d.LONGITUDE_B - d.LONGITUDE_A) * 111 * (lat1.cos()))**2)).sqrt()\n",
    "                 )\n",
    "\n",
    "    # .filter(d.IS_OPENING)\n",
    "\n",
    "    # .filter(d.MKT_TYPE == 'INTER')\n",
    "\n",
    "    .with_columns(MEAN_DIST_GC_YEAR = d.DIST_GC_KM.mean().over(['YEAR', 'MKT_TYPE', 'IS_OPENING']),\n",
    "                  MEDIAN_DIST_GC_YEAR = d.DIST_GC_KM.median().over(['YEAR', 'MKT_TYPE', 'IS_OPENING']),\n",
    "                 )\n",
    "    \n",
    "    .sort('YEAR')\n",
    "    \n",
    ")"
   ]
  },
  {
   "cell_type": "code",
   "execution_count": null,
   "metadata": {},
   "outputs": [],
   "source": [
    "px.box(\n",
    "    df_test_distance.filter(d.MKT_TYPE == 'INTER').to_pandas(),\n",
    "    x='YEAR',\n",
    "    y='DIST_GC_KM',\n",
    "    color='IS_OPENING',\n",
    ")\n",
    "\n"
   ]
  },
  {
   "cell_type": "code",
   "execution_count": null,
   "metadata": {},
   "outputs": [],
   "source": [
    "(\n",
    "    px.scatter(df_test_distance.filter(d.MKT_TYPE == 'INTER').to_pandas(),\n",
    "    x = 'YEAR', y = 'DIST_GC_KM',\n",
    "    color = 'IS_OPENING'\n",
    "    )\n",
    ")"
   ]
  },
  {
   "cell_type": "code",
   "execution_count": null,
   "metadata": {},
   "outputs": [],
   "source": [
    "(\n",
    "    px.line(df_test_distance.filter(d.MKT_TYPE == 'INTER').to_pandas(),\n",
    "    x = 'YEAR', y = 'MEAN_DIST_GC_YEAR',\n",
    "    markers = True,\n",
    "    color = 'IS_OPENING'\n",
    "    )\n",
    ")"
   ]
  },
  {
   "cell_type": "markdown",
   "metadata": {},
   "source": [
    "# how many airline are on routes ?"
   ]
  },
  {
   "cell_type": "code",
   "execution_count": null,
   "metadata": {},
   "outputs": [],
   "source": [
    "df_nb_ope = (\n",
    "    df_scheduled\n",
    "    .with_columns(NB_RTE = 1)\n",
    "    # .with_columns(NB_OPENING_RTE = d.NB_OPENING_RTE_L3 + d.NB_OPENING_RTE_ME3)\n",
    "    .group_by(['YEAR', 'MKT_TYPE', 'NB_OPE_AL'])\n",
    "    .agg(d.NB_RTE.sum(), d.NB_OPENING_RTE.sum(), d.NB_REOPENING_RTE.sum(), d.NB_ENDING_RTE.sum(), d.NB_PAUSE_RTE.sum())\n",
    "    .sort('MKT_TYPE', 'YEAR', 'NB_OPE_AL')\n",
    "    .with_columns(NB_RTE_PCT = d.NB_RTE/d.NB_RTE.sum().over(['YEAR', 'MKT_TYPE']))\n",
    "    .with_columns(NB_OPENING_RTE_PCT = d.NB_OPENING_RTE/d.NB_OPENING_RTE.sum().over(['YEAR', 'MKT_TYPE']))\n",
    "    .with_columns(NB_REOPENING_RTE_PCT = d.NB_REOPENING_RTE/d.NB_REOPENING_RTE.sum().over(['YEAR', 'MKT_TYPE']))\n",
    "    .with_columns(NB_ENDING_RTE_PCT = d.NB_ENDING_RTE/d.NB_ENDING_RTE.sum().over(['YEAR', 'MKT_TYPE']))\n",
    "    .with_columns(NB_PAUSE_RTE_PCT = d.NB_PAUSE_RTE/d.NB_PAUSE_RTE.sum().over(['YEAR', 'MKT_TYPE']))\n",
    "\n",
    "\n",
    ")"
   ]
  },
  {
   "cell_type": "markdown",
   "metadata": {},
   "source": [
    "## in general"
   ]
  },
  {
   "cell_type": "code",
   "execution_count": null,
   "metadata": {},
   "outputs": [],
   "source": [
    "(\n",
    "    px.bar(df_nb_ope.to_pandas(),\n",
    "    x = 'YEAR', y = 'NB_RTE',\n",
    "    color = 'NB_OPE_AL',\n",
    "    facet_col = 'MKT_TYPE',\n",
    "    facet_col_spacing=0.03,\n",
    "    )\n",
    "    .update_yaxes(matches=None, showticklabels=True)\n",
    ")"
   ]
  },
  {
   "cell_type": "code",
   "execution_count": null,
   "metadata": {},
   "outputs": [],
   "source": [
    "(\n",
    "    px.bar(df_nb_ope.to_pandas(),\n",
    "    x = 'YEAR', y = 'NB_RTE_PCT',\n",
    "    color = 'NB_OPE_AL',\n",
    "    facet_col = 'MKT_TYPE',\n",
    "    facet_col_spacing=0.03,\n",
    "    )\n",
    "    .update_yaxes(matches=None, showticklabels=True)\n",
    ")"
   ]
  },
  {
   "cell_type": "markdown",
   "metadata": {},
   "source": [
    "## at opening"
   ]
  },
  {
   "cell_type": "code",
   "execution_count": null,
   "metadata": {},
   "outputs": [],
   "source": [
    "(\n",
    "    px.bar(df_nb_ope.to_pandas(),\n",
    "    x = 'YEAR', y = 'NB_OPENING_RTE',\n",
    "    color = 'NB_OPE_AL',\n",
    "    facet_col = 'MKT_TYPE',\n",
    "    facet_col_spacing=0.03,\n",
    "    )\n",
    "    .update_yaxes(matches=None, showticklabels=True)\n",
    ")"
   ]
  },
  {
   "cell_type": "code",
   "execution_count": null,
   "metadata": {},
   "outputs": [],
   "source": [
    "(\n",
    "    px.bar(df_nb_ope.to_pandas(),\n",
    "    x = 'YEAR', y = 'NB_OPENING_RTE_PCT',\n",
    "    color = 'NB_OPE_AL',\n",
    "    facet_col = 'MKT_TYPE',\n",
    "    facet_col_spacing=0.03,\n",
    "    )\n",
    "    .update_yaxes(matches=None, showticklabels=True)\n",
    ")"
   ]
  },
  {
   "cell_type": "markdown",
   "metadata": {},
   "source": [
    "## at reopening"
   ]
  },
  {
   "cell_type": "code",
   "execution_count": null,
   "metadata": {},
   "outputs": [],
   "source": [
    "(\n",
    "    px.bar(df_nb_ope.to_pandas(),\n",
    "    x = 'YEAR', y = 'NB_REOPENING_RTE',\n",
    "    color = 'NB_OPE_AL',\n",
    "    facet_col = 'MKT_TYPE',\n",
    "    facet_col_spacing=0.03,\n",
    "    )\n",
    "    .update_yaxes(matches=None, showticklabels=True)\n",
    ")"
   ]
  },
  {
   "cell_type": "code",
   "execution_count": null,
   "metadata": {},
   "outputs": [],
   "source": [
    "(\n",
    "    px.bar(df_nb_ope.to_pandas(),\n",
    "    x = 'YEAR', y = 'NB_REOPENING_RTE_PCT',\n",
    "    color = 'NB_OPE_AL',\n",
    "    facet_col = 'MKT_TYPE',\n",
    "    facet_col_spacing=0.03,\n",
    "    )\n",
    "    .update_yaxes(matches=None, showticklabels=True)\n",
    ")"
   ]
  },
  {
   "cell_type": "markdown",
   "metadata": {},
   "source": [
    "## at end"
   ]
  },
  {
   "cell_type": "code",
   "execution_count": null,
   "metadata": {},
   "outputs": [],
   "source": [
    "(\n",
    "    px.bar(df_nb_ope.to_pandas(),\n",
    "    x = 'YEAR', y = 'NB_ENDING_RTE',\n",
    "    color = 'NB_OPE_AL',\n",
    "    facet_col = 'MKT_TYPE',\n",
    "    facet_col_spacing=0.03,\n",
    "    )\n",
    "    .update_yaxes(matches=None, showticklabels=True)\n",
    ")"
   ]
  },
  {
   "cell_type": "code",
   "execution_count": null,
   "metadata": {},
   "outputs": [],
   "source": [
    "(\n",
    "    px.bar(df_nb_ope.to_pandas(),\n",
    "    x = 'YEAR', y = 'NB_ENDING_RTE_PCT',\n",
    "    color = 'NB_OPE_AL',\n",
    "    facet_col = 'MKT_TYPE',\n",
    "    facet_col_spacing=0.03,\n",
    "    )\n",
    "    .update_yaxes(matches=None, showticklabels=True)\n",
    ")"
   ]
  },
  {
   "cell_type": "markdown",
   "metadata": {},
   "source": [
    "## at break"
   ]
  },
  {
   "cell_type": "code",
   "execution_count": null,
   "metadata": {},
   "outputs": [],
   "source": [
    "(\n",
    "    px.bar(df_nb_ope.to_pandas(),\n",
    "    x = 'YEAR', y = 'NB_PAUSE_RTE',\n",
    "    color = 'NB_OPE_AL',\n",
    "    facet_col = 'MKT_TYPE',\n",
    "    facet_col_spacing=0.03,\n",
    "    )\n",
    "    .update_yaxes(matches=None, showticklabels=True)\n",
    ")"
   ]
  },
  {
   "cell_type": "code",
   "execution_count": null,
   "metadata": {},
   "outputs": [],
   "source": [
    "(\n",
    "    px.bar(df_nb_ope.to_pandas(),\n",
    "    x = 'YEAR', y = 'NB_PAUSE_RTE_PCT',\n",
    "    color = 'NB_OPE_AL',\n",
    "    facet_col = 'MKT_TYPE',\n",
    "    facet_col_spacing=0.03,\n",
    "    )\n",
    "    .update_yaxes(matches=None, showticklabels=True)\n",
    ")"
   ]
  },
  {
   "cell_type": "markdown",
   "metadata": {},
   "source": [
    "# is it always the same carrier that open new route on the international market ?"
   ]
  },
  {
   "cell_type": "markdown",
   "metadata": {},
   "source": [
    "be careful here we have the operational carrier"
   ]
  },
  {
   "cell_type": "code",
   "execution_count": null,
   "metadata": {},
   "outputs": [],
   "source": [
    "df_plot_al_opening = (\n",
    "    df_scheduled\n",
    "    .filter(d.IS_OPENING)\n",
    "    .filter(d.MKT_TYPE == 'INTER')\n",
    "    .select('YEAR', 'LIST_OPE_AL')\n",
    "    .explode('LIST_OPE_AL')\n",
    "    .rename({'LIST_OPE_AL':'OPE_AL'})\n",
    "    \n",
    "    .join(df_airline_mapping.rename({'AL':'OPE_AL'}), how = 'left', on = 'OPE_AL')\n",
    "    .with_columns(AL_GROUP = d.AL_GROUP.fill_null('unknown'))\n",
    "\n",
    "    .group_by(['YEAR', 'AL_GROUP'])\n",
    "    .agg(pl.len().alias('NB_RTE_OPEN'))\n",
    "    .sort(['YEAR', 'NB_RTE_OPEN'], descending = [False, True])\n",
    "\n",
    ")"
   ]
  },
  {
   "cell_type": "code",
   "execution_count": null,
   "metadata": {},
   "outputs": [],
   "source": [
    "(\n",
    "    px.bar(\n",
    "        df_plot_al_opening.to_pandas(),\n",
    "        x = 'YEAR', y = 'NB_RTE_OPEN',\n",
    "        color = 'AL_GROUP',\n",
    "        orientation = 'v',\n",
    "    )\n",
    ")"
   ]
  },
  {
   "cell_type": "markdown",
   "metadata": {},
   "source": [
    "## top 10 opening airline group"
   ]
  },
  {
   "cell_type": "code",
   "execution_count": null,
   "metadata": {},
   "outputs": [],
   "source": [
    "df_plot_al_opening.group_by('AL_GROUP').agg(d.NB_RTE_OPEN.sum()).sort('NB_RTE_OPEN', descending = True).head(10)"
   ]
  },
  {
   "cell_type": "markdown",
   "metadata": {},
   "source": [
    "# what happen to route that doesn't last more than 3 years ? (end or pause)"
   ]
  },
  {
   "cell_type": "code",
   "execution_count": null,
   "metadata": {},
   "outputs": [],
   "source": [
    "df_le3 = (\n",
    "    df_scheduled_wo_covid\n",
    "\n",
    "    .filter(d.IS_OPENING)\n",
    "    .filter(d.DURATION_FIRST_OPENING < 4)\n",
    "\n",
    "    .with_columns(TAG = pl.when(d.TOTAL_BREAKS == 0)\n",
    "                           .then(pl.lit('END'))\n",
    "                           .otherwise(pl.lit('PAUSE'))\n",
    "    )\n",
    "\n",
    "    .with_columns(NB_OPENING_RTE = 1)\n",
    "    .filter(d.YEAR < 2017)\n",
    "    .group_by(['MKT_TYPE', 'TAG'])\n",
    "    .agg(d.NB_OPENING_RTE.sum())\n",
    "    .with_columns(NB_OPENING_RTE_PCT = d.NB_OPENING_RTE/d.NB_OPENING_RTE.sum().over('MKT_TYPE'))\n",
    "    .sort(['MKT_TYPE', 'NB_OPENING_RTE_PCT'], descending = [False, True])\n",
    "    .rename({'NB_OPENING_RTE':'NB_OPENING_RTE_LESS_3Y', 'NB_OPENING_RTE_PCT':'NB_OPENING_RTE_LESS_3Y_PCT'})\n",
    "\n",
    "    .to_pandas()\n",
    "\n",
    ")"
   ]
  },
  {
   "cell_type": "code",
   "execution_count": null,
   "metadata": {},
   "outputs": [],
   "source": [
    "(\n",
    "    px.bar(df_le3,\n",
    "    x= 'MKT_TYPE', y='NB_OPENING_RTE_LESS_3Y_PCT',\n",
    "    color = 'TAG',\n",
    "    color_discrete_map = {\n",
    "        \"END\": \"red\",\n",
    "        \"PAUSE\": \"orange\"\n",
    "    }\n",
    "    )\n",
    "\n",
    ")"
   ]
  },
  {
   "cell_type": "code",
   "execution_count": null,
   "metadata": {},
   "outputs": [],
   "source": [
    "(\n",
    "    px.bar(df_le3,\n",
    "    x= 'MKT_TYPE', y='NB_OPENING_RTE_LESS_3Y',\n",
    "    color = 'TAG',\n",
    "    color_discrete_map = {\n",
    "        \"END\": \"red\",\n",
    "        \"PAUSE\": \"orange\"\n",
    "    }\n",
    "    )\n",
    "\n",
    ")"
   ]
  },
  {
   "cell_type": "markdown",
   "metadata": {},
   "source": [
    "# visualisation of airport we're working with"
   ]
  },
  {
   "cell_type": "markdown",
   "metadata": {},
   "source": [
    "note: some airport (11) may be missing latitude and longitude null in the df_airports_lookup dataframe"
   ]
  },
  {
   "cell_type": "code",
   "execution_count": null,
   "metadata": {},
   "outputs": [],
   "source": [
    "apt_series = (df_scheduled\n",
    "    .select('APT_CODE_A', 'APT_CODE_B')\n",
    "    .unpivot(on=['APT_CODE_A', 'APT_CODE_B'])\n",
    "    .drop('variable')\n",
    "    .rename({'value': 'APT_CODE'})\n",
    "    .unique()\n",
    ")"
   ]
  },
  {
   "cell_type": "code",
   "execution_count": null,
   "metadata": {},
   "outputs": [],
   "source": [
    "df_geo = (\n",
    "    df_airports_lookup\n",
    "    .join(apt_series, how = 'inner', on = 'APT_CODE')\n",
    "    .select('APT_CODE', 'LATITUDE', 'LONGITUDE') ## 741\n",
    "    .filter(~ d.LATITUDE.is_null()) ## 730\n",
    "    .filter(~ d.LONGITUDE.is_null())\n",
    "    .to_pandas()\n",
    ")"
   ]
  },
  {
   "cell_type": "code",
   "execution_count": null,
   "metadata": {},
   "outputs": [],
   "source": [
    "(\n",
    "    px.scatter_geo(\n",
    "        df_geo,\n",
    "        lat=\"LATITUDE\",\n",
    "        lon=\"LONGITUDE\",\n",
    "        color_discrete_sequence=[\"red\"],\n",
    "        projection=\"equirectangular\", \n",
    "        title=\"Airport location\",\n",
    "        height = 1000\n",
    "    )\n",
    "    .update_geos(showcountries=True, showcoastlines=True)\n",
    "    .update_traces(marker=dict(size=4))  \n",
    ")"
   ]
  },
  {
   "cell_type": "markdown",
   "metadata": {},
   "source": [
    "# Ideas"
   ]
  },
  {
   "cell_type": "markdown",
   "metadata": {},
   "source": [
    "- duration pause/first reopening\n",
    "- repartition aircraft, which aircrafts goes on new routes (for example new aircraft or old one)\n",
    "- do kind of the same study but with routes as new metropolitan area\n",
    "- frequency of new routes vs old one and how the frequency evolves over time, based on the frequencies how does the routes survives"
   ]
  },
  {
   "cell_type": "markdown",
   "metadata": {},
   "source": []
  }
 ],
 "metadata": {
  "kernelspec": {
   "display_name": "optim",
   "language": "python",
   "name": "python3"
  },
  "language_info": {
   "codemirror_mode": {
    "name": "ipython",
    "version": 3
   },
   "file_extension": ".py",
   "mimetype": "text/x-python",
   "name": "python",
   "nbconvert_exporter": "python",
   "pygments_lexer": "ipython3",
   "version": "3.10.13"
  }
 },
 "nbformat": 4,
 "nbformat_minor": 2
}
