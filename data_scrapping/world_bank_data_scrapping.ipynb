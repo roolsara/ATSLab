{
 "cells": [
  {
   "cell_type": "markdown",
   "metadata": {},
   "source": [
    "<div class=\"alert alert-block alert-info\">A notebook that extracts data from the World Bank. It requires completing the indicators list with the World Bank indicator code, an arbitrary name, and an arbitrary category. The data is then extracted by year and country, with the country code added to help with future merging.</div>"
   ]
  },
  {
   "cell_type": "markdown",
   "metadata": {},
   "source": [
    "# Import"
   ]
  },
  {
   "cell_type": "code",
   "execution_count": null,
   "metadata": {},
   "outputs": [],
   "source": [
    "# import joblib\n",
    "# joblib.Memory(location=None)  ## disable persistent cache"
   ]
  },
  {
   "cell_type": "code",
   "execution_count": null,
   "metadata": {},
   "outputs": [],
   "source": [
    "import wbdata\n",
    "import pandas as pd\n",
    "import polars as pl\n",
    "from polars import col as d\n",
    "from datetime import datetime\n",
    "from collections import defaultdict"
   ]
  },
  {
   "cell_type": "markdown",
   "metadata": {},
   "source": [
    "# Define indicators"
   ]
  },
  {
   "cell_type": "markdown",
   "metadata": {},
   "source": [
    "To have more informations about the indicators: https://data.worldbank.org/indicator/{code}"
   ]
  },
  {
   "cell_type": "code",
   "execution_count": null,
   "metadata": {},
   "outputs": [],
   "source": [
    "indicators = [\n",
    "    ################\n",
    "    ## Population\n",
    "    ################\n",
    "    {\"code\": \"SP.POP.TOTL\", \"name\": \"POPU\", \"category\": \"Population\"}, ## population\n",
    "    {\"code\": \"SP.POP.GROW\", \"name\": \"POPU_GROWTH_PCT\", \"category\": \"Population\"}, ## population growth (annual %)\n",
    "\n",
    "    {\"code\": \"SP.URB.TOTL\", \"name\": \"URBAN_POPU\", \"category\": \"Population\"}, ## urban population\n",
    "    {\"code\": \"SP.URB.TOTL.IN.ZS\", \"name\": \"URBAN_POPU_PCT\", \"category\": \"Population\"}, ## urban population (% of total population)\n",
    "\n",
    "    {\"code\": \"SP.RUR.TOTL\", \"name\": \"RURAL_POPU\", \"category\": \"Population\"}, ## rural population\n",
    "    {\"code\": \"SP.RUR.TOTL.ZS\", \"name\": \"RURAL_POPU_PCT\", \"category\": \"Population\"}, ## rural population (% of total population)\n",
    "\n",
    "    {\"code\": \"EN.URB.LCTY\", \"name\": \"POPU_LARGEST_CITY\", \"category\": \"Population\"}, ## population in the largest city\n",
    "    {\"code\": \"EN.URB.LCTY.UR.ZS\", \"name\": \"POPU_LARGEST_CITY_PCT\", \"category\": \"Population\"}, ## population in the largest city (% of urban population)\n",
    "\n",
    "    {\"code\": \"EN.URB.MCTY\", \"name\": \"POPU_URBAN_1M\", \"category\": \"Population\"}, ## population in urban agglomerations of more than 1 million\n",
    "    {\"code\": \"EN.URB.MCTY.TL.ZS\", \"name\": \"POPU_URBAN_1M_PCT\", \"category\": \"Population\"}, ## population in urban agglomerations of more than 1 million (% of total population)\n",
    "\n",
    "    {\"code\": \"SP.POP.0014.TO.ZS\", \"name\": \"POPU_0_14_PCT\", \"category\": \"Population\"}, ## population ages 0-14 (% of total population)\n",
    "    {\"code\": \"SP.POP.1564.TO.ZS\", \"name\": \"POPU_15_64_PCT\", \"category\": \"Population\"}, ## population ages 15-64 (% of total population)\n",
    "    {\"code\": \"SP.POP.65UP.TO.ZS\", \"name\": \"POPU_65_PLUS_PCT\", \"category\": \"Population\"}, ## population ages 65+ (% of total population)\n",
    "\n",
    "    {\"code\": \"EN.POP.DNST\", \"name\": \"POPU_DENSITY\", \"category\": \"Population\"}, ## population density (people per sq.km of land area)\n",
    "\n",
    "\n",
    "    ################\n",
    "    ## Economic\n",
    "    ################\n",
    "    {\"code\": \"NY.GDP.MKTP.KD\", \"name\": \"GDP_USD2015\", \"category\": \"Economic\"}, ## GDP (constant 2015 US$)\n",
    "    {\"code\": \"NY.GDP.MKTP.KN\", \"name\": \"GDP_LCU\", \"category\": \"Economic\"}, ## GDP (constant LCU) --> which year ?? we don't know\n",
    "    {\"code\": \"NY.GDP.MKTP.KD.ZG\", \"name\": \"GDP_GROWTH_PCT\", \"category\": \"Economic\"}, ## GDP growth (annual %)\n",
    "\n",
    "    {\"code\": \"NY.GDP.MKTP.PP.KD\", \"name\": \"GDP_PPP_USD2021_INTER\", \"category\": \"Economic\"}, ## GDP, PPP (constant 2021 international $)\n",
    "    \n",
    "    {\"code\": \"NY.GDP.PCAP.KD\", \"name\": \"GDP_PER_CAPITA_USD2015\", \"category\": \"Economic\"}, ## GDP per capita (contant 2015 US$)\n",
    "    {\"code\": \"NY.GDP.PCAP.KN\", \"name\": \"GDP_PER_CAPITA_LCU\", \"category\": \"Economic\"}, ## GDP per capita (constant LCU)\n",
    "    {\"code\": \"NY.GDP.PCAP.KD.ZG\", \"name\": \"GDP_PER_CAPITA_GROWTH_PCT\", \"category\": \"Economic\"}, ## GDP per capita growth (annual %)\n",
    "\n",
    "    {\"code\": \"NY.GNP.MKTP.KD\", \"name\": \"GNI_USD2015\", \"category\": \"Economic\"}, ## GNI (constant 2015 US$)\n",
    "    {\"code\": \"NY.GNP.MKTP.KN\", \"name\": \"GNI_LCU\", \"category\": \"Economic\"}, ## GNI (constant LCU)\n",
    "    {\"code\": \"NY.GNP.MKTP.KD.ZG\", \"name\": \"GNI_GROWTH_PCT\", \"category\": \"Economic\"}, ## GNI growth (annual %)\n",
    "\n",
    "    {\"code\": \"NY.GNP.MKTP.PP.KD\", \"name\": \"GNI_PPP_USD2021_INTER\", \"category\": \"Economic\"}, ## GNI, PPP (constant 2021 international $)\n",
    "\n",
    "    {\"code\": \"NY.GNP.PCAP.KD\", \"name\": \"GNI_PER_CAPITA_USD2015\", \"category\": \"Economic\"}, ## GNI per capita (constant 2015 US$)\n",
    "    {\"code\": \"NY.GNP.PCAP.KN\", \"name\": \"GNI_PER_CAPITA_LCU\", \"category\": \"Economic\"}, ## GNI per capita (constant LCU)\n",
    "    {\"code\": \"NY.GNP.PCAP.KD.ZG\", \"name\": \"GNI_PER_CAPITA_GROWTH_PCT\", \"category\": \"Economic\"}, ## GNI per capita growth (annual %)\n",
    "\n",
    "    {\"code\": \"FP.CPI.TOTL.ZG\", \"name\": \"INFLATION_PCT\", \"category\": \"Economic\"}, ## inflation, consumer prices (annual%) --> base 2015 US$\n",
    "\n",
    "    {\"code\": \"NE.EXP.GNFS.ZS\", \"name\": \"EXPORT_GDP_PCT\", \"category\": \"Economic\"}, ## exports of goods and services (% of GDP)\n",
    "    {\"code\": \"NE.EXP.GNFS.KD\", \"name\": \"EXPORT_USD2015\", \"category\": \"Economic\"}, ## exports of goods and services (constant 2015 US$)\n",
    "    {\"code\": \"NE.EXP.GNFS.KN\", \"name\": \"EXPORT_LCU\", \"category\": \"Economic\"}, ## exports of goods and services (constant of LCU)\n",
    "    {\"code\": \"NE.EXP.GNFS.KD.ZG\", \"name\": \"EXPORT_GROWTH_PCT\", \"category\": \"Economic\"}, ## exports of goods and services (annual % growth)\n",
    "\n",
    "    {\"code\": \"NE.IMP.GNFS.ZS\", \"name\": \"IMPORT_GDP_PCT\", \"category\": \"Economic\"}, ## imports of goods and services (% of GDP)\n",
    "    {\"code\": \"NE.IMP.GNFS.KD\", \"name\": \"IMPORT_USD2015\", \"category\": \"Economic\"}, ## imports of goods and services (constant 2015 US$)\n",
    "    {\"code\": \"NE.IMP.GNFS.KN\", \"name\": \"IMPORT_LCU\", \"category\": \"Economic\"}, ## imports of goods and services (constant of LCU)\n",
    "    {\"code\": \"NE.IMP.GNFS.KD.ZG\", \"name\": \"IMPORT_GROWTH_PCT\", \"category\": \"Economic\"}, ## imports of goods and services (annual % growth)\n",
    "\n",
    "    ## not sure but in case\n",
    "    # {\"code\": \"NY.GNS.ICTR.KS\", \"name\": \"GROSS_SAVINGS_GDP_PCT\", \"category\": \"Economic\"}, ## gross savings (% of GDP)\n",
    "    # {\"code\": \"NY.GNS.ICTR.GN.ZS\", \"name\": \"GROSS_SAVINGS_GNI_PCT\", \"category\": \"Economic\"}, ## gross savings (% of GNI)\n",
    "    # {\"code\": \"GC.XPN.TOTL.GD.ZS\", \"name\": \"EXPENSE_GDP_PCT\", \"category\": \"Economic\"}, ## expense (% of GDP)\n",
    "    # {\"code\": \"NY.GDP.DEFL.KD.ZG\", \"name\": \"GDP_DEFLATOR_PCT\", \"category\": \"Economic\"}, ## inflation, GDP deflator (annual %)\n",
    "\n",
    "\n",
    "    ################\n",
    "    ## Energy\n",
    "    ################\n",
    "    ## not sure about that category\n",
    "    {\"code\": \"EG.USE.PCAP.KG.OE\", \"name\": \"NRJ_USE\", \"category\": \"Energy\"}, ## energy use (kg of oil equivalent per capita)\n",
    "    {\"code\": \"EG.USE.COMM.GD.PP.KD\", \"name\": \"ENERGY_USE_1000GDP\", \"category\": \"Energy\"}, ## energy use (kg of oil equivalent) per $1000 GDP (constant 2021 PPP)\n",
    "    {\"code\": \"EG.USE.COMM.FO.ZS\", \"name\": \"FOSSIL_FUEL_NRJ_PCT\", \"category\": \"Energy\"}, ## fossil fuel energy consumption (% of total)\n",
    "    {\"code\": \"EG.USE.COMM.CL.ZS\", \"name\": \"ALTER_AND_NUCLEAR_NRJ_PCT\", \"category\": \"Energy\"}, ## alternative and nuclear energy (% of total energy use)\n",
    "    {\"code\": \"EG.IMP.CONS.ZS\", \"name\": \"NRJ_IMPORT_NET_PCT\", \"category\": \"Energy\"}, ## energy imports, net (% of energy use)\n",
    "    {\"code\": \"EG.FEC.RNEW.ZS\", \"name\": \"RNEW_NRJ_PCT\", \"category\": \"Energy\"}, ## renewable energy consumption (% of total final energy consumption)\n",
    "    {\"code\": \"EG.USE.ELEC.KH.PC\", \"name\": \"ELEC_CONSUMPTION\", \"category\": \"Energy\"}, ## electric power consumption (kWh per capita)\n",
    "    {\"code\": \"TX.VAL.FUEL.ZS.UN\", \"name\": \"FUEL_EXPORT_PCT\", \"category\": \"Energy\"}, ## fuel exports (% of merchandise exports)\n",
    "    {\"code\": \"TM.VAL.FUEL.ZS.UN\", \"name\": \"FUEL_IMPORT_PCT\", \"category\": \"Energy\"}, ## fuel imports (% of merchandise exports)\n",
    "\n",
    "\n",
    "    ################\n",
    "    ## Infrastructure \n",
    "    ################\n",
    "    {\"code\": \"IS.RRS.TOTL.KM\", \"name\": \"RAIL_LINES_KM\", \"category\": \"Infrastructure\"}, ## rail lines (total route-km) ## to normalize with the size of the country\n",
    "    {\"code\": \"IS.RRS.PASG.KM\", \"name\": \"RAILWAYS_PAX\", \"category\": \"Infrastructure\"}, ## railways, passengers carried (million passenger-km)\n",
    "    {\"code\": \"IE.PPI.TRAN.CD\", \"name\": \"INVEST_TRANSPORT\", \"category\": \"Infrastructure\"}, ## investment in transport with private participation (current US$)\n",
    "\n",
    "\n",
    "    ################\n",
    "    ## Labor\n",
    "    ################\n",
    "    {\"code\": \"SL.TLF.TOTL.IN\", \"name\": \"LABOR_FORCE_TOTAL\", \"category\": \"Labor\"}, ## labor force total\n",
    "    {\"code\": \"SL.UEM.TOTL.ZS\", \"name\": \"UNEMPLOYMENT\", \"category\": \"Labor\"}, ## unemployment, total (% of total labor force) (modeled ILO estimate) --> what does it mean ? \n",
    "    \n",
    "    ################\n",
    "    ## Geography\n",
    "    ################\n",
    "    {\"code\": \"AG.LND.TOTL.K2\", \"name\": \"LAND_AREA_KM2\", \"category\": \"Geography\"}, ## land area (sq.km)\n",
    "    {\"code\": \"AG.LND.TOTL.UR.K2\", \"name\": \"URBAN_LAND_AREA_km2\", \"category\": \"Geography\"}, ## urban land area (sq.km)\n",
    "    {\"code\": \"AG.LND.TOTL.RU.K2\", \"name\": \"RURAL_LAND_AREA_km2\", \"category\": \"Geography\"}, ## rural land area (sq.km)\n",
    "    {\"code\": \"AG.LND.FRST.ZS\", \"name\": \"FOREST_AREA_PCT\", \"category\": \"Geography\"}, ## forest area (% of land area)\n",
    "    {\"code\": \"AG.LND.AGRI.ZS\", \"name\": \"AGR_LAND_PCT\", \"category\": \"Geography\"}, ## agricultural land (% of land area)\n",
    "\n",
    "    ################\n",
    "    ## Tourism\n",
    "    ################\n",
    "    {\"code\": \"ST.INT.RCPT.CD\", \"name\": \"INTER_TOURISM_RECEIPT_USD\", \"category\": \"Tourism\"}, ## international tourism, receipts (current US$)\n",
    "    {\"code\": \"ST.INT.RCPT.XP.ZS\", \"name\": \"INTER_TOURISM_RECEIPT_PCT\", \"category\": \"Tourism\"}, ## international tourism, receipts (% of total exports)\n",
    "\n",
    "    {\"code\": \"ST.INT.XPND.CD\", \"name\": \"INTER_TOURISM_EXPENDITURE_USD\", \"category\": \"Tourism\"}, ## international tourism, expenditures (current US$)\n",
    "    {\"code\": \"ST.INT.XPND.MP.ZS\", \"name\": \"INTER_TOURISM_EXPENDITURE_PCT\", \"category\": \"Tourism\"}, ## international tourism, expenditures (% of total imports)\n",
    "\n",
    "    {\"code\": \"ST.INT.ARVL\", \"name\": \"INTER_TOURISM_ARRIVAL\", \"category\": \"Tourism\"}, ## international tourism, number of arrivals\n",
    "    {\"code\": \"ST.INT.DPRT\", \"name\": \"INTER_TOURISM_DEPARTURE\", \"category\": \"Tourism\"}, ## international tourism, number of departures\n",
    "\n",
    "]"
   ]
  },
  {
   "cell_type": "markdown",
   "metadata": {},
   "source": [
    "# Create list with the columns name depending on the category"
   ]
  },
  {
   "cell_type": "markdown",
   "metadata": {},
   "source": [
    "function useful for analysis if we want to zoom/filter more easily (not usefull here)"
   ]
  },
  {
   "cell_type": "code",
   "execution_count": null,
   "metadata": {},
   "outputs": [],
   "source": [
    "# def create_category_variables(data):\n",
    "#     grouped = defaultdict(list)\n",
    "#     for item in data:\n",
    "#         grouped[item['category']].append(item['name'])\n",
    "    \n",
    "#     created_categories = []\n",
    "#     for category, names in grouped.items():\n",
    "#         var_name = f\"{category}_columns_list\"\n",
    "#         globals()[var_name] = names\n",
    "#         created_categories.append(var_name)\n",
    "    \n",
    "#     return created_categories\n",
    "\n",
    "# categories = create_category_variables(indicators)\n",
    "\n",
    "# print(\"Variables :\", categories)\n"
   ]
  },
  {
   "cell_type": "markdown",
   "metadata": {},
   "source": [
    "# Download data"
   ]
  },
  {
   "cell_type": "code",
   "execution_count": null,
   "metadata": {},
   "outputs": [],
   "source": [
    "## create a dictionary for wbdata\n",
    "ind_dict = {ind[\"code\"]: ind[\"name\"] for ind in indicators}\n",
    "\n",
    "## define the date range (need to be datetime object don't work otherwise)\n",
    "start_date = datetime(2000, 1, 1)\n",
    "end_date = datetime(2023, 1, 1)"
   ]
  },
  {
   "cell_type": "code",
   "execution_count": null,
   "metadata": {},
   "outputs": [],
   "source": [
    "## download data using wbdata\n",
    "print(\"Downloading data from World Bank API...\")\n",
    "df_data_extract_raw = wbdata.get_dataframe(ind_dict, country=\"all\", date=(start_date, end_date)).reset_index()\n",
    "print(\"Download completed!\")"
   ]
  },
  {
   "cell_type": "markdown",
   "metadata": {},
   "source": [
    "# Processed the raw extract"
   ]
  },
  {
   "cell_type": "code",
   "execution_count": null,
   "metadata": {},
   "outputs": [],
   "source": [
    "## retrieve country codes to facilitate mapping\n",
    "countries = wbdata.get_countries()\n",
    "country_df = pl.DataFrame({\"COUNTRY_NAME\": [c[\"name\"] for c in countries],\"COUNTRY_CODE\": [c[\"id\"] for c in countries],})"
   ]
  },
  {
   "cell_type": "code",
   "execution_count": null,
   "metadata": {},
   "outputs": [],
   "source": [
    "df_data_extract_processed = (\n",
    "    pl.from_pandas(df_data_extract_raw)\n",
    "    .rename({'date':'YEAR', 'country':'COUNTRY_NAME'})\n",
    "    .with_columns(YEAR = d.YEAR.cast(pl.Int32))\n",
    "    .join(country_df, how = 'left', on = 'COUNTRY_NAME')\n",
    ")"
   ]
  },
  {
   "cell_type": "code",
   "execution_count": null,
   "metadata": {},
   "outputs": [],
   "source": [
    "# df_data_extract_processed.head()"
   ]
  },
  {
   "cell_type": "markdown",
   "metadata": {},
   "source": [
    "# Save csv"
   ]
  },
  {
   "cell_type": "code",
   "execution_count": null,
   "metadata": {},
   "outputs": [],
   "source": [
    "# df_data_extract_processed.write_csv(\"worldbank_indicators.csv\")\n",
    "# print(\"Saved CSV: worldbank_indicators.csv\")"
   ]
  },
  {
   "cell_type": "code",
   "execution_count": null,
   "metadata": {},
   "outputs": [],
   "source": []
  }
 ],
 "metadata": {
  "kernelspec": {
   "display_name": "optim",
   "language": "python",
   "name": "python3"
  },
  "language_info": {
   "codemirror_mode": {
    "name": "ipython",
    "version": 3
   },
   "file_extension": ".py",
   "mimetype": "text/x-python",
   "name": "python",
   "nbconvert_exporter": "python",
   "pygments_lexer": "ipython3",
   "version": "3.10.13"
  }
 },
 "nbformat": 4,
 "nbformat_minor": 2
}
